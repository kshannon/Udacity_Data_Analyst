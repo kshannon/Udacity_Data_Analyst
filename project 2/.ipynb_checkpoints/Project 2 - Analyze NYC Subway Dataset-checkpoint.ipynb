{
 "cells": [
  {
   "cell_type": "markdown",
   "metadata": {},
   "source": [
    "Kyle Shannon - 22 NOV 2015 - I decided to use the 2<sup>nd</sup> version dataset [with extra data points and variables] to complete this project."
   ]
  },
  {
   "cell_type": "markdown",
   "metadata": {},
   "source": [
    "### Section 0: References \n",
    "At End of Document"
   ]
  },
  {
   "cell_type": "markdown",
   "metadata": {},
   "source": [
    "### Section 1: Statistical Test"
   ]
  },
  {
   "cell_type": "markdown",
   "metadata": {},
   "source": [
    "#### 1.1 Which statistical test did you use to analyze the NYC subway data? Did you use a one-tail or a two-tail P value? What is the null hypothesis? What is your p-critical value?"
   ]
  },
  {
   "cell_type": "markdown",
   "metadata": {},
   "source": [
    "There is a statistically significant difference in NYC Subway ridership during rainy and non rainy days. Formally:\n",
    "\n",
    "-  H<sub>0</sub>: &mu;<sub>nonRainy</sub> = &mu;<sub>Rainy</sub> \n",
    "-  H<sub>a</sub>: &mu;<sub>nonRainy</sub> &#8800; &mu;<sub>Rainy</sub> \n",
    "\n",
    "\n",
    "Day | &mu; | Refers to \n",
    "--- | ---\n",
    "nonRainy | 1845.539 | Data from Figure 1\n",
    "Rainy | 2028.196 | Data from Figure 2\n",
    "\n",
    "The null hypothesis states that there is no mean significant change in subway ridership between rainy and non rainy days. The alternative hypothesis states that there is a statistically significant difference in means. Therefore this will be a *two tailed test*. "
   ]
  },
  {
   "cell_type": "markdown",
   "metadata": {
    "collapsed": true
   },
   "source": [
    "<img src=\"Figure 1.png\" alt=\"inline\" style=\"width: 400px; float:left;\"/><img src=\"Figure 2.png\" alt=\"inline\" style=\"width: 380px; float:left;\"/>"
   ]
  },
  {
   "cell_type": "markdown",
   "metadata": {
    "collapsed": true
   },
   "source": [
    "<img src=\"Figure 3.png\" alt=\"inline\" style=\"width: 400px; float:left;\"/><img src=\"Figure 4.png\" alt=\"inline\" style=\"width: 380px; float:left;\"/>"
   ]
  },
  {
   "cell_type": "markdown",
   "metadata": {
    "collapsed": true
   },
   "source": [
    "#### 1.2 Why is this statistical test applicable to the dataset? In particular, consider the assumptions that the test is making about the distribution of ridership in the two samples."
   ]
  },
  {
   "cell_type": "markdown",
   "metadata": {},
   "source": [
    "Because the distributions in Both Figure 1 and 2 are not normal but rather right-tailed skewed it may not be best to use a t-test. Instead the Mann-Whitney U test will be used."
   ]
  },
  {
   "cell_type": "markdown",
   "metadata": {},
   "source": [
    "#### 1.3 What results did you get from this statistical test? These should include the following numerical values: p-values, as well as the means for each of the two samples under test."
   ]
  },
  {
   "cell_type": "markdown",
   "metadata": {
    "collapsed": true
   },
   "source": [
    "- nonRainy &mu; = 1845.539\n",
    "- Rainy &mu; = 2028.196\n",
    "- Mann-Whitney Test Statistic:  153635120.5\n",
    "- p value:  5.48213914249e-06"
   ]
  },
  {
   "cell_type": "markdown",
   "metadata": {},
   "source": [
    "#### 1.4 What is the significance and interpretation of these results?"
   ]
  },
  {
   "cell_type": "markdown",
   "metadata": {
    "collapsed": true
   },
   "source": [
    "With such a low p-value the null hypothsis is rejected in favor of the alternative. In other words we conclude with 95% confidence that the difference in distributions is not due to random sampiling, rather the sample sets come from two distinct populations. "
   ]
  },
  {
   "cell_type": "markdown",
   "metadata": {},
   "source": [
    "### Section 2: Linear Regression"
   ]
  },
  {
   "cell_type": "markdown",
   "metadata": {
    "collapsed": true
   },
   "source": [
    "#### 2.1 What approach did you use to compute the coefficients theta and produce prediction for ENTRIESn_hourly in your regression model:"
   ]
  },
  {
   "cell_type": "markdown",
   "metadata": {
    "collapsed": true
   },
   "source": [
    "I used OLS Linear Regression to compute the &beta; coefficenets. I performed the final regression in ScikitLearn, however I used StatsModels to explore using different features. I largely did this because of how easy it is to get t-statistics, p-values and AIC from the regression_results.summary() method. "
   ]
  },
  {
   "cell_type": "markdown",
   "metadata": {
    "collapsed": true
   },
   "source": [
    "#### 2.2 What features (input variables) did you use in your model? Did you use any dummy variables as part of your features?\n",
    "#### 2.3 Why did you select these features in your model?\n",
    "#### 2.4 What are the parameters (also known as \"coefficients\" or \"weights\") of the non-dummy features in your linear regression model?"
   ]
  },
  {
   "cell_type": "markdown",
   "metadata": {},
   "source": [
    "Table of features:\n",
    "\n",
    "Feature | &beta;-coefficenet| Rationale \n",
    "--- | ---\n",
    "precipi | -1901.9935  | Precipitation is better than using rain (a seemingly obvious choice) because unlike rain it is not binary. Binary values do not do well in linear regression models. Also precipi takes into account location and hour. Which is more granular. Rain feature is 1 so long as it rained once at the location during the day.\n",
    "meanwspdi | 3.9864 | The 95% confidence interval was -19.486 -2.387 which tells me that I can be fairly certain that as mean windspeed increases, ridership drops.\n",
    "meantempi | -15.7364 | The 95% CI was -17.536 -11.296 again as temperature rises ENTRIESn_hourly decreases. This can be a good predictor for ridership.\n",
    "unit | dummy_feature | Transformed into a df of dummy variables size unit-1. Because there is a diff in value.counts() for units (e.g. grand central station vs end of the line station this is an essential predictor for ridership.\n",
    "hour | dummy_feature |Ridership certainly will vary based on hour of the day. For example peak rush hour vs. midnight. I choose to make this a dummy variable because like day_week keeping the data as is would result in it being interpreted as ordinal data, which it is not.\n",
    "day_week | dummy_feature | day_week seemed better than the boolen feature weekday. However, I made day_week a dummy variable because there is no hierarchical ordering to weekdays, day 6 is not more important than day 3. I should normalize the data though because of the monday holiday in the data set. This can be seen in the confidence intervals. The table below shows a dip in day 0, Monday. This is due to the holiday. However the coefficients are negative for the weekends, this beautifully shows how rider ship goes down during the weekend compared to the work week. \n",
    "\n",
    "\n",
    "Variable | Coefficient | std err | t | P>[t] | [95.0% Conf. Int.]\n",
    "--- | --- | --- | --- | --- | ---| ---\n",
    "dummy_day_week_0 | 245.6075\t| 26.529 | 9.258 | 0.000 | 193.610 297.605\n",
    "dummy_day_week_1 | 681.7857\t| 29.714 | 22.945 | 0.000 | 623.546 740.026\n",
    "dummy_day_week_2 | 675.6276\t| 27.690 | 24.400 | 0.000 | 621.355 729.900\n",
    "dummy_day_week_3 | 683.8690\t| 27.736 | 24.656 | 0.000 | 629.505 738.233\n",
    "dummy_day_week_4 | 657.7155\t| 26.849 | 24.497 | 0.000 | 605.092 710.339\n",
    "dummy_day_week_5 | -231.9556 | 27.710 | -8.371 | 0.000 | -286.268 -177.643\n",
    "dummy_day_week_6 | -588.3065 | 24.466 | -24.046 | 0.000\t| -636.261 -540.352"
   ]
  },
  {
   "cell_type": "markdown",
   "metadata": {},
   "source": [
    "#### 2.5 What is your model’s R<sup>2</sup> (coefficients of determination) value?"
   ]
  },
  {
   "cell_type": "markdown",
   "metadata": {},
   "source": [
    "0.54536"
   ]
  },
  {
   "cell_type": "markdown",
   "metadata": {},
   "source": [
    "#### 2.6 What does this R<sup>2</sup> value mean for the goodness of fit for your regression model? Do you think this linear model to predict ridership is appropriate for this dataset, given this R<sup>2</sup> value?"
   ]
  },
  {
   "cell_type": "markdown",
   "metadata": {},
   "source": [
    "This model's goodness of fit is alright. Part of the issue is that the data being fed into the linear regression model is not infact linear or even quadratic. Another model would definitely perform better. For example random forest. Below is a plot of the residuals. The plot does not look to be very well normally distributed about 0. THere seems to be a leftward shift."
   ]
  },
  {
   "cell_type": "markdown",
   "metadata": {},
   "source": [
    "<img src=\"Figure 7.png\" alt=\"inline\" style=\"width: 450px;\">"
   ]
  },
  {
   "cell_type": "markdown",
   "metadata": {},
   "source": [
    "### Section 3: Visualization"
   ]
  },
  {
   "cell_type": "markdown",
   "metadata": {},
   "source": [
    "#### 3.1 One visualization should contain two histograms: one of ENTRIESn_hourly for rainy days and one of ENTRIESn_hourly for non-rainy days."
   ]
  },
  {
   "cell_type": "markdown",
   "metadata": {},
   "source": [
    "Please reference Figure 1-4 above."
   ]
  },
  {
   "cell_type": "markdown",
   "metadata": {},
   "source": [
    "#### 3.2 One visualization can be more freeform. You should feel free to implement something that we discussed in class (e.g., scatter plots, line plots) or attempt to implement something more advanced if you'd like. "
   ]
  },
  {
   "cell_type": "markdown",
   "metadata": {},
   "source": [
    "<img src=\"Figure 5.png\" alt=\"inline\" style=\"width: 800px;\">"
   ]
  },
  {
   "cell_type": "markdown",
   "metadata": {},
   "source": [
    "<img src=\"Figure 6.png\" alt=\"inline\" style=\"width: 800px;\">"
   ]
  },
  {
   "cell_type": "markdown",
   "metadata": {},
   "source": [
    "Figure 6 provides a good correlation overview for the NYC subway data set. Another reason I did not choose to include for example both *tempi* and *meantmpi* is that they are highly correlated. Putting highly correlated features into a linear regression model can contrbute colinearity. "
   ]
  },
  {
   "cell_type": "markdown",
   "metadata": {},
   "source": [
    "### Section 4: Conclusion"
   ]
  },
  {
   "cell_type": "markdown",
   "metadata": {},
   "source": [
    "#### 4.1 From your analysis and interpretation of the data, do more people ride the NYC subway when it is raining or when it is not raining?"
   ]
  },
  {
   "cell_type": "markdown",
   "metadata": {},
   "source": [
    "More people will ride the subway when it is raining outside during the month of May."
   ]
  },
  {
   "cell_type": "markdown",
   "metadata": {},
   "source": [
    "#### 4.2 What analyses lead you to this conclusion? You should use results from both your statistical tests and your linear regression to support your analysis."
   ]
  },
  {
   "cell_type": "markdown",
   "metadata": {},
   "source": [
    "The mean for ridership was higher during rain vs non rain. The U-test verifyed (95% with a p-value < 0.05) that the distributions were different. Therefore, it appears that when it rain in NYC during the May, more people on average choose to ride the Metro. \n",
    "\n",
    "From the model, it looks like as avg. temperature increases ridership goes down. This makes sense as being in the subway with no A/C in 95<sup>0</sup> is no fun. Also when it is raining it tends to be colder outside. \n",
    "\n",
    "Finally, both my model's AIC and BIC values are through the roof. Perhaps this is due to the number of parameters I have, about 257) I believe AIC and BIC penalize the model for having many parameters as this "
   ]
  },
  {
   "cell_type": "markdown",
   "metadata": {},
   "source": [
    "### Section 5: Reflection"
   ]
  },
  {
   "cell_type": "markdown",
   "metadata": {},
   "source": [
    "#### 5.1 Please discuss potential shortcomings of the methods of your analysis, including:"
   ]
  },
  {
   "cell_type": "markdown",
   "metadata": {},
   "source": [
    "The dataset has several issues. There is only data vailable for May. It is tough to build a model to predict ridership woth data for only one month. Especially because weather is a heavy feature in the model and data set. Also because of the month length and their being a holiday on one of the Mondays my feature set for week_day might not be best as is. I should normalize the data for week_day and see if that helps the model. \n",
    "\n",
    "Linear regression is probably not the best model to use. My model seems to exhibit high bias meaning the data is being underfit. Increasing the model complexity might help here. While increasing the amount of data can help with overfitting and high variance, this is not the case here as we have plenty of data for the month of May. Perhaps more data for the remaining months would help and thus a less complex model could be used. \n",
    "\n",
    "One issue I see is that the model has such a high conditional number: 1.5339860506628557e+17, this usually refers to an issue with multucollinearity. Perhaps I have too many dummy variables. Or there is a nissue with the intercept? I am not sure."
   ]
  },
  {
   "cell_type": "markdown",
   "metadata": {},
   "source": [
    "#### 5.2 (Optional) Do you have any other insight about the dataset that you would like to share with us?"
   ]
  },
  {
   "cell_type": "markdown",
   "metadata": {},
   "source": [
    "I have nothing else to add."
   ]
  },
  {
   "cell_type": "markdown",
   "metadata": {},
   "source": [
    "### Section 0: References"
   ]
  },
  {
   "cell_type": "markdown",
   "metadata": {},
   "source": [
    "- I used documentation from Seaborn, Pandas, Numpy, Statsmodels and Scikit Learn.\n",
    "- http://stats.stackexchange.com/questions/9171/aic-or-p-value-which-one-to-choose-for-model-selection\n",
    "- https://en.wikipedia.org/wiki/Akaike_information_criterion\n"
   ]
  },
  {
   "cell_type": "markdown",
   "metadata": {},
   "source": [
    "### Relevant Code:"
   ]
  },
  {
   "cell_type": "code",
   "execution_count": 60,
   "metadata": {
    "collapsed": false
   },
   "outputs": [],
   "source": [
    "import pandas as pd\n",
    "import numpy as np\n",
    "import scipy\n",
    "import scipy.stats\n",
    "import sklearn\n",
    "import seaborn as sns\n",
    "import statsmodels\n",
    "import statsmodels.api as sm\n",
    "import matplotlib.pyplot as plt\n",
    "import formatter\n",
    "import math\n",
    "import statsmodels.formula.api as smf\n",
    "%matplotlib inline\n",
    "\n"
   ]
  },
  {
   "cell_type": "code",
   "execution_count": 5,
   "metadata": {
    "collapsed": false
   },
   "outputs": [],
   "source": [
    "df = pd.read_csv('turnstile_weather_v2.csv') #import csv into pandas.dataframe"
   ]
  },
  {
   "cell_type": "code",
   "execution_count": 6,
   "metadata": {
    "collapsed": false,
    "scrolled": true
   },
   "outputs": [
    {
     "name": "stdout",
     "output_type": "stream",
     "text": [
      "<class 'pandas.core.frame.DataFrame'>\n",
      "Int64Index: 42649 entries, 0 to 42648\n",
      "Data columns (total 27 columns):\n",
      "UNIT               42649 non-null object\n",
      "DATEn              42649 non-null object\n",
      "TIMEn              42649 non-null object\n",
      "ENTRIESn           42649 non-null int64\n",
      "EXITSn             42649 non-null int64\n",
      "ENTRIESn_hourly    42649 non-null float64\n",
      "EXITSn_hourly      42649 non-null float64\n",
      "datetime           42649 non-null object\n",
      "hour               42649 non-null int64\n",
      "day_week           42649 non-null int64\n",
      "weekday            42649 non-null int64\n",
      "station            42649 non-null object\n",
      "latitude           42649 non-null float64\n",
      "longitude          42649 non-null float64\n",
      "conds              42649 non-null object\n",
      "fog                42649 non-null int64\n",
      "precipi            42649 non-null float64\n",
      "pressurei          42649 non-null float64\n",
      "rain               42649 non-null int64\n",
      "tempi              42649 non-null float64\n",
      "wspdi              42649 non-null float64\n",
      "meanprecipi        42649 non-null float64\n",
      "meanpressurei      42649 non-null float64\n",
      "meantempi          42649 non-null float64\n",
      "meanwspdi          42649 non-null float64\n",
      "weather_lat        42649 non-null float64\n",
      "weather_lon        42649 non-null float64\n",
      "dtypes: float64(14), int64(7), object(6)\n",
      "memory usage: 9.1+ MB\n"
     ]
    }
   ],
   "source": [
    "df.info() #gathering general info about data, including counts, dtypes(), nulls, and col names."
   ]
  },
  {
   "cell_type": "code",
   "execution_count": 7,
   "metadata": {
    "collapsed": false
   },
   "outputs": [
    {
     "data": {
      "text/html": [
       "<div>\n",
       "<table border=\"1\" class=\"dataframe\">\n",
       "  <thead>\n",
       "    <tr style=\"text-align: right;\">\n",
       "      <th></th>\n",
       "      <th>ENTRIESn</th>\n",
       "      <th>EXITSn</th>\n",
       "      <th>ENTRIESn_hourly</th>\n",
       "      <th>EXITSn_hourly</th>\n",
       "      <th>hour</th>\n",
       "      <th>day_week</th>\n",
       "      <th>weekday</th>\n",
       "      <th>latitude</th>\n",
       "      <th>longitude</th>\n",
       "      <th>fog</th>\n",
       "      <th>...</th>\n",
       "      <th>pressurei</th>\n",
       "      <th>rain</th>\n",
       "      <th>tempi</th>\n",
       "      <th>wspdi</th>\n",
       "      <th>meanprecipi</th>\n",
       "      <th>meanpressurei</th>\n",
       "      <th>meantempi</th>\n",
       "      <th>meanwspdi</th>\n",
       "      <th>weather_lat</th>\n",
       "      <th>weather_lon</th>\n",
       "    </tr>\n",
       "  </thead>\n",
       "  <tbody>\n",
       "    <tr>\n",
       "      <th>count</th>\n",
       "      <td>4.264900e+04</td>\n",
       "      <td>4.264900e+04</td>\n",
       "      <td>42649.000000</td>\n",
       "      <td>42649.000000</td>\n",
       "      <td>42649.000000</td>\n",
       "      <td>42649.000000</td>\n",
       "      <td>42649.000000</td>\n",
       "      <td>42649.000000</td>\n",
       "      <td>42649.000000</td>\n",
       "      <td>42649.000000</td>\n",
       "      <td>...</td>\n",
       "      <td>42649.000000</td>\n",
       "      <td>42649.000000</td>\n",
       "      <td>42649.000000</td>\n",
       "      <td>42649.000000</td>\n",
       "      <td>42649.000000</td>\n",
       "      <td>42649.000000</td>\n",
       "      <td>42649.000000</td>\n",
       "      <td>42649.000000</td>\n",
       "      <td>42649.000000</td>\n",
       "      <td>42649.000000</td>\n",
       "    </tr>\n",
       "    <tr>\n",
       "      <th>mean</th>\n",
       "      <td>2.812486e+07</td>\n",
       "      <td>1.986993e+07</td>\n",
       "      <td>1886.589955</td>\n",
       "      <td>1361.487866</td>\n",
       "      <td>10.046754</td>\n",
       "      <td>2.905719</td>\n",
       "      <td>0.714436</td>\n",
       "      <td>40.724647</td>\n",
       "      <td>-73.940364</td>\n",
       "      <td>0.009824</td>\n",
       "      <td>...</td>\n",
       "      <td>29.971096</td>\n",
       "      <td>0.224741</td>\n",
       "      <td>63.103780</td>\n",
       "      <td>6.927872</td>\n",
       "      <td>0.004618</td>\n",
       "      <td>29.971096</td>\n",
       "      <td>63.103780</td>\n",
       "      <td>6.927872</td>\n",
       "      <td>40.728555</td>\n",
       "      <td>-73.938693</td>\n",
       "    </tr>\n",
       "    <tr>\n",
       "      <th>std</th>\n",
       "      <td>3.043607e+07</td>\n",
       "      <td>2.028986e+07</td>\n",
       "      <td>2952.385585</td>\n",
       "      <td>2183.845409</td>\n",
       "      <td>6.938928</td>\n",
       "      <td>2.079231</td>\n",
       "      <td>0.451688</td>\n",
       "      <td>0.071650</td>\n",
       "      <td>0.059713</td>\n",
       "      <td>0.098631</td>\n",
       "      <td>...</td>\n",
       "      <td>0.137942</td>\n",
       "      <td>0.417417</td>\n",
       "      <td>8.455597</td>\n",
       "      <td>4.510178</td>\n",
       "      <td>0.016344</td>\n",
       "      <td>0.131158</td>\n",
       "      <td>6.939011</td>\n",
       "      <td>3.179832</td>\n",
       "      <td>0.065420</td>\n",
       "      <td>0.059582</td>\n",
       "    </tr>\n",
       "    <tr>\n",
       "      <th>min</th>\n",
       "      <td>0.000000e+00</td>\n",
       "      <td>0.000000e+00</td>\n",
       "      <td>0.000000</td>\n",
       "      <td>0.000000</td>\n",
       "      <td>0.000000</td>\n",
       "      <td>0.000000</td>\n",
       "      <td>0.000000</td>\n",
       "      <td>40.576152</td>\n",
       "      <td>-74.073622</td>\n",
       "      <td>0.000000</td>\n",
       "      <td>...</td>\n",
       "      <td>29.550000</td>\n",
       "      <td>0.000000</td>\n",
       "      <td>46.900000</td>\n",
       "      <td>0.000000</td>\n",
       "      <td>0.000000</td>\n",
       "      <td>29.590000</td>\n",
       "      <td>49.400000</td>\n",
       "      <td>0.000000</td>\n",
       "      <td>40.600204</td>\n",
       "      <td>-74.014870</td>\n",
       "    </tr>\n",
       "    <tr>\n",
       "      <th>25%</th>\n",
       "      <td>1.039762e+07</td>\n",
       "      <td>7.613712e+06</td>\n",
       "      <td>274.000000</td>\n",
       "      <td>237.000000</td>\n",
       "      <td>4.000000</td>\n",
       "      <td>1.000000</td>\n",
       "      <td>0.000000</td>\n",
       "      <td>40.677107</td>\n",
       "      <td>-73.987342</td>\n",
       "      <td>0.000000</td>\n",
       "      <td>...</td>\n",
       "      <td>29.890000</td>\n",
       "      <td>0.000000</td>\n",
       "      <td>57.000000</td>\n",
       "      <td>4.600000</td>\n",
       "      <td>0.000000</td>\n",
       "      <td>29.913333</td>\n",
       "      <td>58.283333</td>\n",
       "      <td>4.816667</td>\n",
       "      <td>40.688591</td>\n",
       "      <td>-73.985130</td>\n",
       "    </tr>\n",
       "    <tr>\n",
       "      <th>50%</th>\n",
       "      <td>1.818389e+07</td>\n",
       "      <td>1.331609e+07</td>\n",
       "      <td>905.000000</td>\n",
       "      <td>664.000000</td>\n",
       "      <td>12.000000</td>\n",
       "      <td>3.000000</td>\n",
       "      <td>1.000000</td>\n",
       "      <td>40.717241</td>\n",
       "      <td>-73.953459</td>\n",
       "      <td>0.000000</td>\n",
       "      <td>...</td>\n",
       "      <td>29.960000</td>\n",
       "      <td>0.000000</td>\n",
       "      <td>61.000000</td>\n",
       "      <td>6.900000</td>\n",
       "      <td>0.000000</td>\n",
       "      <td>29.958000</td>\n",
       "      <td>60.950000</td>\n",
       "      <td>6.166667</td>\n",
       "      <td>40.720570</td>\n",
       "      <td>-73.949150</td>\n",
       "    </tr>\n",
       "    <tr>\n",
       "      <th>75%</th>\n",
       "      <td>3.263049e+07</td>\n",
       "      <td>2.393771e+07</td>\n",
       "      <td>2255.000000</td>\n",
       "      <td>1537.000000</td>\n",
       "      <td>16.000000</td>\n",
       "      <td>5.000000</td>\n",
       "      <td>1.000000</td>\n",
       "      <td>40.759123</td>\n",
       "      <td>-73.907733</td>\n",
       "      <td>0.000000</td>\n",
       "      <td>...</td>\n",
       "      <td>30.060000</td>\n",
       "      <td>0.000000</td>\n",
       "      <td>69.100000</td>\n",
       "      <td>9.200000</td>\n",
       "      <td>0.000000</td>\n",
       "      <td>30.060000</td>\n",
       "      <td>67.466667</td>\n",
       "      <td>8.850000</td>\n",
       "      <td>40.755226</td>\n",
       "      <td>-73.912033</td>\n",
       "    </tr>\n",
       "    <tr>\n",
       "      <th>max</th>\n",
       "      <td>2.357746e+08</td>\n",
       "      <td>1.493782e+08</td>\n",
       "      <td>32814.000000</td>\n",
       "      <td>34828.000000</td>\n",
       "      <td>20.000000</td>\n",
       "      <td>6.000000</td>\n",
       "      <td>1.000000</td>\n",
       "      <td>40.889185</td>\n",
       "      <td>-73.755383</td>\n",
       "      <td>1.000000</td>\n",
       "      <td>...</td>\n",
       "      <td>30.320000</td>\n",
       "      <td>1.000000</td>\n",
       "      <td>86.000000</td>\n",
       "      <td>23.000000</td>\n",
       "      <td>0.157500</td>\n",
       "      <td>30.293333</td>\n",
       "      <td>79.800000</td>\n",
       "      <td>17.083333</td>\n",
       "      <td>40.862064</td>\n",
       "      <td>-73.694176</td>\n",
       "    </tr>\n",
       "  </tbody>\n",
       "</table>\n",
       "<p>8 rows × 21 columns</p>\n",
       "</div>"
      ],
      "text/plain": [
       "           ENTRIESn        EXITSn  ENTRIESn_hourly  EXITSn_hourly  \\\n",
       "count  4.264900e+04  4.264900e+04     42649.000000   42649.000000   \n",
       "mean   2.812486e+07  1.986993e+07      1886.589955    1361.487866   \n",
       "std    3.043607e+07  2.028986e+07      2952.385585    2183.845409   \n",
       "min    0.000000e+00  0.000000e+00         0.000000       0.000000   \n",
       "25%    1.039762e+07  7.613712e+06       274.000000     237.000000   \n",
       "50%    1.818389e+07  1.331609e+07       905.000000     664.000000   \n",
       "75%    3.263049e+07  2.393771e+07      2255.000000    1537.000000   \n",
       "max    2.357746e+08  1.493782e+08     32814.000000   34828.000000   \n",
       "\n",
       "               hour      day_week       weekday      latitude     longitude  \\\n",
       "count  42649.000000  42649.000000  42649.000000  42649.000000  42649.000000   \n",
       "mean      10.046754      2.905719      0.714436     40.724647    -73.940364   \n",
       "std        6.938928      2.079231      0.451688      0.071650      0.059713   \n",
       "min        0.000000      0.000000      0.000000     40.576152    -74.073622   \n",
       "25%        4.000000      1.000000      0.000000     40.677107    -73.987342   \n",
       "50%       12.000000      3.000000      1.000000     40.717241    -73.953459   \n",
       "75%       16.000000      5.000000      1.000000     40.759123    -73.907733   \n",
       "max       20.000000      6.000000      1.000000     40.889185    -73.755383   \n",
       "\n",
       "                fog      ...          pressurei          rain         tempi  \\\n",
       "count  42649.000000      ...       42649.000000  42649.000000  42649.000000   \n",
       "mean       0.009824      ...          29.971096      0.224741     63.103780   \n",
       "std        0.098631      ...           0.137942      0.417417      8.455597   \n",
       "min        0.000000      ...          29.550000      0.000000     46.900000   \n",
       "25%        0.000000      ...          29.890000      0.000000     57.000000   \n",
       "50%        0.000000      ...          29.960000      0.000000     61.000000   \n",
       "75%        0.000000      ...          30.060000      0.000000     69.100000   \n",
       "max        1.000000      ...          30.320000      1.000000     86.000000   \n",
       "\n",
       "              wspdi   meanprecipi  meanpressurei     meantempi     meanwspdi  \\\n",
       "count  42649.000000  42649.000000   42649.000000  42649.000000  42649.000000   \n",
       "mean       6.927872      0.004618      29.971096     63.103780      6.927872   \n",
       "std        4.510178      0.016344       0.131158      6.939011      3.179832   \n",
       "min        0.000000      0.000000      29.590000     49.400000      0.000000   \n",
       "25%        4.600000      0.000000      29.913333     58.283333      4.816667   \n",
       "50%        6.900000      0.000000      29.958000     60.950000      6.166667   \n",
       "75%        9.200000      0.000000      30.060000     67.466667      8.850000   \n",
       "max       23.000000      0.157500      30.293333     79.800000     17.083333   \n",
       "\n",
       "        weather_lat   weather_lon  \n",
       "count  42649.000000  42649.000000  \n",
       "mean      40.728555    -73.938693  \n",
       "std        0.065420      0.059582  \n",
       "min       40.600204    -74.014870  \n",
       "25%       40.688591    -73.985130  \n",
       "50%       40.720570    -73.949150  \n",
       "75%       40.755226    -73.912033  \n",
       "max       40.862064    -73.694176  \n",
       "\n",
       "[8 rows x 21 columns]"
      ]
     },
     "execution_count": 7,
     "metadata": {},
     "output_type": "execute_result"
    }
   ],
   "source": [
    "df.describe() #gathering general statistical info about data."
   ]
  },
  {
   "cell_type": "code",
   "execution_count": 8,
   "metadata": {
    "collapsed": false
   },
   "outputs": [
    {
     "name": "stdout",
     "output_type": "stream",
     "text": [
      "0    33064\n",
      "1     9585\n",
      "Name: rain, dtype: int64\n"
     ]
    }
   ],
   "source": [
    "print df['rain'].value_counts() #using value_counts to glean more info about particular columns of data."
   ]
  },
  {
   "cell_type": "code",
   "execution_count": 9,
   "metadata": {
    "collapsed": false
   },
   "outputs": [
    {
     "data": {
      "image/png": "[encoded data removed]",
      "text/plain": [
       "<matplotlib.figure.Figure at 0x10be37950>"
      ]
     },
     "metadata": {},
     "output_type": "display_data"
    }
   ],
   "source": [
    "#Figure 1\n",
    "sns.set_style(\"ticks\")\n",
    "figure_1 = sns.distplot(df['ENTRIESn_hourly'][df['rain']==0], bins=range(0,30001,500))\n",
    "figure_1.set(ylabel=\"Frequency\", xlabel='ENTRIESn_hourly for May', yticks=np.arange(0.0000,0.0009,0.0001), \n",
    "             title=\"Figure 1: Distribution of Subway Entries while Not Raining\")\n",
    "sns.despine()\n",
    "plt.show()"
   ]
  },
  {
   "cell_type": "code",
   "execution_count": 10,
   "metadata": {
    "collapsed": false
   },
   "outputs": [
    {
     "data": {
      "image/png": "[encoded data removed]",
      "text/plain": [
       "<matplotlib.figure.Figure at 0x10cccf590>"
      ]
     },
     "metadata": {},
     "output_type": "display_data"
    }
   ],
   "source": [
    "#Figure 2\n",
    "sns.set_style(\"ticks\")\n",
    "figure_2 = sns.distplot(df['ENTRIESn_hourly'][df['rain']==1])\n",
    "figure_2.set(ylabel=\"Frequency\", xlabel='ENTRIESn_hourly for May', yticks=np.arange(0.0000,0.0009,0.0001),\n",
    "             title=\"Figure 2: Distribution of Subway Entries while Raining\")\n",
    "sns.despine()\n",
    "plt.show()"
   ]
  },
  {
   "cell_type": "code",
   "execution_count": 11,
   "metadata": {
    "collapsed": false
   },
   "outputs": [
    {
     "name": "stdout",
     "output_type": "stream",
     "text": [
      "Non Rainy Days: \n",
      "count    33064.000000\n",
      "mean      1845.539439\n",
      "std       2878.770848\n",
      "min          0.000000\n",
      "25%        269.000000\n",
      "50%        893.000000\n",
      "75%       2197.000000\n",
      "max      32814.000000\n",
      "Name: ENTRIESn_hourly, dtype: float64\n"
     ]
    }
   ],
   "source": [
    "print 'Non Rainy Days: '\n",
    "print df['ENTRIESn_hourly'][df['rain']==0].describe()"
   ]
  },
  {
   "cell_type": "code",
   "execution_count": 12,
   "metadata": {
    "collapsed": false
   },
   "outputs": [
    {
     "name": "stdout",
     "output_type": "stream",
     "text": [
      "Rainy Days: \n",
      "count     9585.000000\n",
      "mean      2028.196035\n",
      "std       3189.433373\n",
      "min          0.000000\n",
      "25%        295.000000\n",
      "50%        939.000000\n",
      "75%       2424.000000\n",
      "max      32289.000000\n",
      "Name: ENTRIESn_hourly, dtype: float64\n"
     ]
    }
   ],
   "source": [
    "print 'Rainy Days: '\n",
    "print df['ENTRIESn_hourly'][df['rain']==1].describe()"
   ]
  },
  {
   "cell_type": "code",
   "execution_count": 13,
   "metadata": {
    "collapsed": false
   },
   "outputs": [
    {
     "name": "stdout",
     "output_type": "stream",
     "text": [
      "Test Statistic:  153635120.5\n",
      "p-value:  5.48213914249e-06\n"
     ]
    }
   ],
   "source": [
    "#MannWhitney U test\n",
    "non_rainy = df['ENTRIESn_hourly'][df['rain']==0]\n",
    "rainy = df['ENTRIESn_hourly'][df['rain']==1]\n",
    "statistic, pvalue = scipy.stats.mannwhitneyu(non_rainy, rainy)\n",
    "print 'Test Statistic: ', statistic\n",
    "print 'p-value: ', pvalue*2 #pvalue*2 for 2 sided test."
   ]
  },
  {
   "cell_type": "code",
   "execution_count": 16,
   "metadata": {
    "collapsed": false
   },
   "outputs": [
    {
     "name": "stderr",
     "output_type": "stream",
     "text": [
      "/Applications/anaconda/lib/python2.7/site-packages/scipy/stats/morestats.py:1082: UserWarning: p-value may not be accurate for N > 5000.\n",
      "  warnings.warn(\"p-value may not be accurate for N > 5000.\")\n"
     ]
    },
    {
     "data": {
      "text/plain": [
       "(0.5938820838928223, 0.0)"
      ]
     },
     "execution_count": 16,
     "metadata": {},
     "output_type": "execute_result"
    }
   ],
   "source": [
    "#Shapiro test not good for large sample size. Perhaps we can randomly sub sample and rerun, or use the darling test?\n",
    "scipy.stats.shapiro(df['ENTRIESn_hourly'][df['rain']==1])"
   ]
  },
  {
   "cell_type": "code",
   "execution_count": 17,
   "metadata": {
    "collapsed": false
   },
   "outputs": [],
   "source": [
    "df['ENTRIESn_hourly_logtran'] = df['ENTRIESn_hourly']"
   ]
  },
  {
   "cell_type": "code",
   "execution_count": 18,
   "metadata": {
    "collapsed": false
   },
   "outputs": [
    {
     "name": "stdout",
     "output_type": "stream",
     "text": [
      "<class 'pandas.core.frame.DataFrame'>\n",
      "Int64Index: 42649 entries, 0 to 42648\n",
      "Data columns (total 28 columns):\n",
      "UNIT                       42649 non-null object\n",
      "DATEn                      42649 non-null object\n",
      "TIMEn                      42649 non-null object\n",
      "ENTRIESn                   42649 non-null int64\n",
      "EXITSn                     42649 non-null int64\n",
      "ENTRIESn_hourly            42649 non-null float64\n",
      "EXITSn_hourly              42649 non-null float64\n",
      "datetime                   42649 non-null object\n",
      "hour                       42649 non-null int64\n",
      "day_week                   42649 non-null int64\n",
      "weekday                    42649 non-null int64\n",
      "station                    42649 non-null object\n",
      "latitude                   42649 non-null float64\n",
      "longitude                  42649 non-null float64\n",
      "conds                      42649 non-null object\n",
      "fog                        42649 non-null int64\n",
      "precipi                    42649 non-null float64\n",
      "pressurei                  42649 non-null float64\n",
      "rain                       42649 non-null int64\n",
      "tempi                      42649 non-null float64\n",
      "wspdi                      42649 non-null float64\n",
      "meanprecipi                42649 non-null float64\n",
      "meanpressurei              42649 non-null float64\n",
      "meantempi                  42649 non-null float64\n",
      "meanwspdi                  42649 non-null float64\n",
      "weather_lat                42649 non-null float64\n",
      "weather_lon                42649 non-null float64\n",
      "ENTRIESn_hourly_logtran    42649 non-null float64\n",
      "dtypes: float64(15), int64(7), object(6)\n",
      "memory usage: 9.4+ MB\n"
     ]
    }
   ],
   "source": [
    "df.info()"
   ]
  },
  {
   "cell_type": "code",
   "execution_count": 19,
   "metadata": {
    "collapsed": false
   },
   "outputs": [],
   "source": [
    "df['ENTRIESn_hourly_logtran'] = np.log(df['ENTRIESn_hourly_logtran'])"
   ]
  },
  {
   "cell_type": "code",
   "execution_count": 20,
   "metadata": {
    "collapsed": false
   },
   "outputs": [
    {
     "data": {
      "image/png": "[encoded data removed]",
      "text/plain": [
       "<matplotlib.figure.Figure at 0x10df1fe50>"
      ]
     },
     "metadata": {},
     "output_type": "display_data"
    }
   ],
   "source": [
    "sns.set_style(\"ticks\")\n",
    "figure_1 = sns.distplot(df['ENTRIESn_hourly_logtran'][df['rain']==0], bins=np.arange(0,12,.25))\n",
    "figure_1.set(ylabel=\"Frequency\", xlabel='ENTRIESn_hourly for May', title=\"Figure 3: Log Transformed Entries While Not Raining\")\n",
    "sns.despine()\n",
    "plt.show()"
   ]
  },
  {
   "cell_type": "code",
   "execution_count": 21,
   "metadata": {
    "collapsed": false,
    "scrolled": true
   },
   "outputs": [
    {
     "data": {
      "image/png": "[encoded data removed]",
      "text/plain": [
       "<matplotlib.figure.Figure at 0x10f0e0750>"
      ]
     },
     "metadata": {},
     "output_type": "display_data"
    }
   ],
   "source": [
    "sns.set_style(\"ticks\")\n",
    "figure_1 = sns.distplot(df['ENTRIESn_hourly_logtran'][df['rain']==1], bins=np.arange(0,12,.25))\n",
    "figure_1.set(ylabel=\"Frequency\", xlabel='ENTRIESn_hourly for May', title=\"Figure 4: Log Transformed Entries While Raining\")\n",
    "sns.despine()\n",
    "plt.show()"
   ]
  },
  {
   "cell_type": "code",
   "execution_count": 22,
   "metadata": {
    "collapsed": false
   },
   "outputs": [
    {
     "data": {
      "text/plain": [
       "MannwhitneyuResult(statistic=153635120.5, pvalue=2.7410695712437496e-06)"
      ]
     },
     "execution_count": 22,
     "metadata": {},
     "output_type": "execute_result"
    }
   ],
   "source": [
    "scipy.stats.mannwhitneyu(df['ENTRIESn_hourly_logtran'][df['rain']==0],df['ENTRIESn_hourly_logtran'][df['rain']==1])"
   ]
  },
  {
   "cell_type": "code",
   "execution_count": null,
   "metadata": {
    "collapsed": false
   },
   "outputs": [],
   "source": [
    "df['ENTRIESn_hourly_logtran'].describe()"
   ]
  },
  {
   "cell_type": "code",
   "execution_count": 217,
   "metadata": {
    "collapsed": false
   },
   "outputs": [
    {
     "data": {
      "text/plain": [
       "<matplotlib.axes._subplots.AxesSubplot at 0x12e1ec6d0>"
      ]
     },
     "execution_count": 217,
     "metadata": {},
     "output_type": "execute_result"
    },
    {
     "data": {
      "image/png": "[encoded data removed]",
      "text/plain": [
       "<matplotlib.figure.Figure at 0x12e0ee550>"
      ]
     },
     "metadata": {},
     "output_type": "display_data"
    }
   ],
   "source": [
    "fig, axs = plt.subplots(1, 5, sharey=True)\n",
    "\n",
    "df.plot(kind='scatter', x='precipi', y='ENTRIESn_hourly', ax=axs[0], figsize=(16, 5))\n",
    "df.plot(kind='scatter', x='meanwspdi', y='ENTRIESn_hourly', ax=axs[1])\n",
    "df.plot(kind='scatter', x='meantempi', y='ENTRIESn_hourly', ax=axs[2], title='Figure 5: Feature Correlation')\n",
    "df.plot(kind='scatter', x='hour', y='ENTRIESn_hourly', ax=axs[3])\n",
    "df.plot(kind='scatter', x='day_week', y='ENTRIESn_hourly', ax=axs[4])"
   ]
  },
  {
   "cell_type": "code",
   "execution_count": 233,
   "metadata": {
    "collapsed": false
   },
   "outputs": [
    {
     "data": {
      "image/png": "[encoded data removed]",
      "text/plain": [
       "<matplotlib.figure.Figure at 0x12e01cd50>"
      ]
     },
     "metadata": {},
     "output_type": "display_data"
    }
   ],
   "source": [
    "data = df\n",
    "f, ax = plt.subplots(figsize=(9, 9))\n",
    "cmap = sns.blend_palette([\"#00008B\", \"#6A5ACD\", \"#F0F8FF\",\n",
    "                          \"#FFE6F8\", \"#C71585\", \"#8B0000\"], as_cmap=True)\n",
    "sns.corrplot(data, annot=False, sig_stars=False,\n",
    "             diag_names=False, cmap=cmap, ax=ax)\n",
    "sns.plt.title('Figure 6: Correlation Matrix Heatmap')\n",
    "f.tight_layout()"
   ]
  },
  {
   "cell_type": "code",
   "execution_count": 187,
   "metadata": {
    "collapsed": false,
    "scrolled": true
   },
   "outputs": [
    {
     "name": "stdout",
     "output_type": "stream",
     "text": [
      "1611.64060039\n",
      "[ -4.22241039e+03   1.11839475e+01   1.22097551e+02  -1.64745794e+01\n",
      "  -1.67976895e+03  -1.35511837e+03  -1.35904916e+03  -1.24505086e+03\n",
      "  -1.53042220e+03  -1.51614720e+03  -1.56916932e+03   5.55499795e+03\n",
      "   6.89580416e+03   7.94245023e+02  -1.01811596e+03   2.40923965e+03\n",
      "   5.92507539e+03   1.37665122e+03   4.58533642e+03   2.90631851e+03\n",
      "   7.72972889e+03   4.36490631e+03   1.34378625e+03   3.47354370e+03\n",
      "   1.17934180e+03   5.44131492e+03   1.31150846e+03   2.56327728e+03\n",
      "   2.66338588e+03   6.44628803e+03  -6.08834190e+02   1.01961282e+03\n",
      "  -1.08546986e+03  -9.98950683e+02  -1.62973182e+03  -1.08487139e+03\n",
      "  -6.00325670e+02   1.31132029e+03  -1.17193121e+03   1.09845470e+03\n",
      "   2.88986330e+03   6.55631492e+03   9.84126743e+02   2.23780414e+03\n",
      "   3.34586868e+03  -6.02551933e+02   1.32511670e+03  -3.16814789e+02\n",
      "   6.47965669e+03  -3.31936836e+02   3.09425578e+03  -1.14465659e+03\n",
      "  -5.72394267e+02  -9.70094380e+02  -1.13568329e+03   9.48115990e+02\n",
      "  -5.61169071e+02  -9.17203805e+02  -8.92859402e+02  -1.47797942e+03\n",
      "  -9.40448058e+02  -1.34005217e+03  -8.73498514e+02  -9.05514939e-01\n",
      "   1.82342244e+03   1.77391139e+03  -2.75427733e+02   1.33783104e+03\n",
      "   8.24210524e+03   8.33244126e+02   8.11422442e+02  -5.37603421e+02\n",
      "  -1.26432791e+03  -1.39357133e+03  -6.86771100e+02   1.70009300e+02\n",
      "   2.03553252e+02  -7.43710842e+01   3.37031760e+02   5.13298857e+02\n",
      "   1.13411323e+03   4.59815818e+01   6.03008464e+02  -1.27954955e+03\n",
      "   1.03740094e+03   1.92623965e+03  -3.98480105e+02  -4.84611526e+02\n",
      "   1.57593857e+03  -6.79099611e+02  -1.27167135e+03   3.46510524e+03\n",
      "   1.46222889e+03  -1.45014656e+02  -9.52723650e+02  -5.75859529e+02\n",
      "   1.44137405e+03  -9.02273146e+02   5.37771465e+01  -2.83706463e+02\n",
      "  -2.46722134e+02   7.54906203e+02  -1.05109519e+02  -1.05664653e+03\n",
      "   1.03282657e+02   3.04399233e+03   6.25565292e+02   7.83614875e+02\n",
      "   1.57972889e+03   1.45766528e+02   5.02654072e+03   4.02396279e+01\n",
      "  -9.87878039e+02  -6.85892535e+02  -6.45486523e+02   5.85088585e+02\n",
      "  -3.13988077e+02   2.70360372e+02  -4.04076029e+02   3.74535634e+02\n",
      "  -1.00348743e+03  -7.60878758e+02   4.12949003e+02   5.52371481e+01\n",
      "  -2.92733472e+02  -2.94879146e+02   2.62894298e+02   7.17196411e+02\n",
      "  -8.83831884e+02  -1.16796674e+03   6.64696636e+02  -4.97379130e+01\n",
      "  -5.51619825e+02  -1.00885580e+03  -1.36552669e+02  -9.64519862e+02\n",
      "  -6.81452303e+02   1.77326889e+02  -5.37198708e+02  -2.60577558e+02\n",
      "  -2.71232329e+02   3.17244803e+02  -9.68384291e+02  -1.14984943e+03\n",
      "  -1.02805695e+03  -6.41314117e+02  -5.85802286e+02  -1.11824485e+03\n",
      "  -1.17350895e+03  -7.47153678e+02  -6.60959542e+02  -5.70157268e+02\n",
      "  -1.35502272e+03   8.33446108e+02  -2.69132435e+02  -1.10700435e+03\n",
      "   2.99312542e+02  -8.44152827e+02   9.31345585e+02  -1.15965010e+03\n",
      "  -3.88694565e+02  -2.04959955e+02  -1.00393743e+03  -1.52200123e+03\n",
      "   1.36594461e+03  -3.55735785e+02  -7.37804241e+02  -4.55088969e+02\n",
      "  -7.74715176e+02  -1.07837299e+03   7.75059060e+02  -1.03606371e+03\n",
      "  -6.78833625e+02   1.43019216e+02  -2.16040845e+02  -7.87372556e+02\n",
      "  -6.22821469e+02  -2.19685142e+02  -1.19768837e+03  -1.59570371e+03\n",
      "  -1.27693058e+03  -8.17280151e+02  -9.00603943e+02  -8.54008786e+02\n",
      "  -1.21215708e+03  -1.32049364e+03  -3.78709585e+02  -7.66226687e+02\n",
      "  -8.99360077e+02  -3.34443149e+02  -1.22177424e+03  -1.32550433e+03\n",
      "  -1.02682277e+03  -1.06005116e+03  -4.50188537e+02  -1.52538339e+02\n",
      "  -9.66318437e+02  -1.21703833e+03  -1.12764600e+03   5.87880334e+01\n",
      "  -7.73806657e+02  -1.21600710e+03   4.67852550e+02  -4.95023608e+02\n",
      "  -6.65403496e+02  -1.43344473e+03  -9.97019590e+02  -9.93523893e+02\n",
      "  -4.84412769e+02  -1.32505201e+03  -1.40985163e+03  -1.71393864e+03\n",
      "  -1.19910325e+03  -3.82689459e+02  -6.69550676e+02   2.76558031e+01\n",
      "  -4.46707929e+02  -1.45974364e+03  -7.44786675e+02  -1.42099252e+03\n",
      "  -1.77906368e+03  -1.74246913e+03  -1.89056734e+03  -1.33817227e+03\n",
      "  -1.26131755e+03  -1.25536840e+03  -4.91214980e+02  -1.67089177e+03\n",
      "  -1.62662705e+03  -7.47576151e+02  -1.59196138e+03  -1.25410772e+03\n",
      "  -1.03529150e+03  -1.02281110e+03  -1.09823683e+03  -9.25765849e+02\n",
      "  -1.37009145e+03  -8.29407013e+02   3.06141096e+01  -1.62657359e+03\n",
      "  -1.67965245e+03  -1.54331547e+03  -1.78261680e+03  -1.91670475e+03\n",
      "  -9.39833236e+01   3.63796110e+02   3.80015081e+02   3.72665135e+02\n",
      "   3.66127367e+02  -5.15665266e+02  -8.72955103e+02]\n"
     ]
    }
   ],
   "source": [
    "# Add UNIT to features using dummy variables\n",
    "dummy_units_unit = pd.get_dummies(df['UNIT'], prefix='dummy_unit')\n",
    "dummy_units_day_week = pd.get_dummies(df['day_week'], prefix='dummy_day_week')\n",
    "# create X and y\n",
    "feature_cols = ['precipi','meanwspdi', 'hour', 'meantempi']\n",
    "\n",
    "X = df[feature_cols]\n",
    "X = X.join(dummy_units_unit)\n",
    "X = X.join(dummy_units_day_week)\n",
    "\n",
    "#print X\n",
    "\n",
    "y = df.ENTRIESn_hourly\n",
    "\n",
    "# follow the usual sklearn pattern: import, instantiate, fit\n",
    "from sklearn.linear_model import LinearRegression\n",
    "lm = LinearRegression()\n",
    "lm.fit(X, y)\n",
    "\n",
    "# print intercept and coefficients\n",
    "print lm.intercept_\n",
    "print lm.coef_"
   ]
  },
  {
   "cell_type": "code",
   "execution_count": 188,
   "metadata": {
    "collapsed": false
   },
   "outputs": [
    {
     "data": {
      "text/plain": [
       "[('precipi', -4222.4103917671728),\n",
       " ('meanwspdi', 11.183947468335358),\n",
       " ('hour', 122.09755062050226),\n",
       " ('meantempi', -16.47457937176441)]"
      ]
     },
     "execution_count": 188,
     "metadata": {},
     "output_type": "execute_result"
    }
   ],
   "source": [
    "# pair the feature names with the coefficients\n",
    "zip(feature_cols, lm.coef_)"
   ]
  },
  {
   "cell_type": "code",
   "execution_count": 189,
   "metadata": {
    "collapsed": false
   },
   "outputs": [
    {
     "data": {
      "text/plain": [
       "0.48715517073046732"
      ]
     },
     "execution_count": 189,
     "metadata": {},
     "output_type": "execute_result"
    }
   ],
   "source": [
    "# calculate the R-squared\n",
    "lm.score(X, y)"
   ]
  },
  {
   "cell_type": "code",
   "execution_count": 271,
   "metadata": {
    "collapsed": false
   },
   "outputs": [],
   "source": [
    "# Add UNIT to features using dummy variables\n",
    "dummy_units_unit = pd.get_dummies(df['UNIT'], prefix='dummy_unit')\n",
    "dummy_units_day_week = pd.get_dummies(df['day_week'], prefix='dummy_day_week')\n",
    "dummy_units_hour = pd.get_dummies(df['hour'], prefix='dummy_hour')\n",
    "\n",
    "# create X and y\n",
    "feature_cols = ['precipi','meanwspdi', 'meantempi']\n",
    "\n",
    "X = df[feature_cols]\n",
    "X = X.join(dummy_units_unit)\n",
    "X = X.join(dummy_units_day_week)\n",
    "X = X.join(dummy_units_hour)\n",
    "#print X\n",
    "\n",
    "#setting features = X so i can use features in residual plot. I do not want the constant column \n",
    "#in there as I will add the intercept outside of the np.dot method.\n",
    "features = X\n",
    "\n",
    "y = df.ENTRIESn_hourly\n",
    "\n",
    "\n",
    "X = sm.add_constant(X)\n",
    "\n",
    "model = sm.OLS(y,X)\n",
    "results = model.fit()"
   ]
  },
  {
   "cell_type": "code",
   "execution_count": 248,
   "metadata": {
    "collapsed": false
   },
   "outputs": [
    {
     "name": "stdout",
     "output_type": "stream",
     "text": [
      "   const  precipi  meanwspdi  meantempi  dummy_unit_R003  dummy_unit_R004  \\\n",
      "0      1        0       7.86      55.98                1                0   \n",
      "1      1        0       7.86      55.98                1                0   \n",
      "2      1        0       7.86      55.98                1                0   \n",
      "3      1        0       7.86      55.98                1                0   \n",
      "4      1        0       7.86      55.98                1                0   \n",
      "\n",
      "   dummy_unit_R005  dummy_unit_R006  dummy_unit_R007  dummy_unit_R008  \\\n",
      "0                0                0                0                0   \n",
      "1                0                0                0                0   \n",
      "2                0                0                0                0   \n",
      "3                0                0                0                0   \n",
      "4                0                0                0                0   \n",
      "\n",
      "       ...        dummy_day_week_3  dummy_day_week_4  dummy_day_week_5  \\\n",
      "0      ...                       0                 0                 0   \n",
      "1      ...                       0                 0                 0   \n",
      "2      ...                       0                 0                 0   \n",
      "3      ...                       0                 0                 0   \n",
      "4      ...                       0                 0                 0   \n",
      "\n",
      "   dummy_day_week_6  dummy_hour_0  dummy_hour_4  dummy_hour_8  dummy_hour_12  \\\n",
      "0                 1             1             0             0              0   \n",
      "1                 1             0             1             0              0   \n",
      "2                 1             0             0             0              1   \n",
      "3                 1             0             0             0              0   \n",
      "4                 1             0             0             0              0   \n",
      "\n",
      "   dummy_hour_16  dummy_hour_20  \n",
      "0              0              0  \n",
      "1              0              0  \n",
      "2              0              0  \n",
      "3              1              0  \n",
      "4              0              1  \n",
      "\n",
      "[5 rows x 257 columns]\n"
     ]
    }
   ],
   "source": [
    "print X.head()"
   ]
  },
  {
   "cell_type": "code",
   "execution_count": 249,
   "metadata": {
    "collapsed": false
   },
   "outputs": [
    {
     "data": {
      "text/html": [
       "<table class=\"simpletable\">\n",
       "<caption>OLS Regression Results</caption>\n",
       "<tr>\n",
       "  <th>Dep. Variable:</th>     <td>ENTRIESn_hourly</td> <th>  R-squared:         </th>  <td>   0.545</td>  \n",
       "</tr>\n",
       "<tr>\n",
       "  <th>Model:</th>                   <td>OLS</td>       <th>  Adj. R-squared:    </th>  <td>   0.543</td>  \n",
       "</tr>\n",
       "<tr>\n",
       "  <th>Method:</th>             <td>Least Squares</td>  <th>  F-statistic:       </th>  <td>   201.0</td>  \n",
       "</tr>\n",
       "<tr>\n",
       "  <th>Date:</th>             <td>Sun, 06 Dec 2015</td> <th>  Prob (F-statistic):</th>   <td>  0.00</td>   \n",
       "</tr>\n",
       "<tr>\n",
       "  <th>Time:</th>                 <td>01:07:41</td>     <th>  Log-Likelihood:    </th> <td>-3.8449e+05</td>\n",
       "</tr>\n",
       "<tr>\n",
       "  <th>No. Observations:</th>      <td> 42649</td>      <th>  AIC:               </th>  <td>7.695e+05</td> \n",
       "</tr>\n",
       "<tr>\n",
       "  <th>Df Residuals:</th>          <td> 42395</td>      <th>  BIC:               </th>  <td>7.717e+05</td> \n",
       "</tr>\n",
       "<tr>\n",
       "  <th>Df Model:</th>              <td>   253</td>      <th>                     </th>      <td> </td>     \n",
       "</tr>\n",
       "<tr>\n",
       "  <th>Covariance Type:</th>      <td>nonrobust</td>    <th>                     </th>      <td> </td>     \n",
       "</tr>\n",
       "</table>\n",
       "<table class=\"simpletable\">\n",
       "<tr>\n",
       "          <td></td>            <th>coef</th>     <th>std err</th>      <th>t</th>      <th>P>|t|</th> <th>[95.0% Conf. Int.]</th> \n",
       "</tr>\n",
       "<tr>\n",
       "  <th>const</th>            <td> 2124.3433</td> <td>   80.612</td> <td>   26.353</td> <td> 0.000</td> <td> 1966.343  2282.344</td>\n",
       "</tr>\n",
       "<tr>\n",
       "  <th>precipi</th>          <td>-1901.9935</td> <td>  407.573</td> <td>   -4.667</td> <td> 0.000</td> <td>-2700.845 -1103.142</td>\n",
       "</tr>\n",
       "<tr>\n",
       "  <th>meanwspdi</th>        <td>    3.9864</td> <td>    4.687</td> <td>    0.851</td> <td> 0.395</td> <td>   -5.200    13.173</td>\n",
       "</tr>\n",
       "<tr>\n",
       "  <th>meantempi</th>        <td>  -15.7364</td> <td>    1.486</td> <td>  -10.588</td> <td> 0.000</td> <td>  -18.650   -12.823</td>\n",
       "</tr>\n",
       "<tr>\n",
       "  <th>dummy_unit_R003</th>  <td>-1703.9417</td> <td>  154.156</td> <td>  -11.053</td> <td> 0.000</td> <td>-2006.090 -1401.793</td>\n",
       "</tr>\n",
       "<tr>\n",
       "  <th>dummy_unit_R004</th>  <td>-1343.0266</td> <td>  151.250</td> <td>   -8.880</td> <td> 0.000</td> <td>-1639.479 -1046.574</td>\n",
       "</tr>\n",
       "<tr>\n",
       "  <th>dummy_unit_R005</th>  <td>-1357.0453</td> <td>  152.542</td> <td>   -8.896</td> <td> 0.000</td> <td>-1656.031 -1058.059</td>\n",
       "</tr>\n",
       "<tr>\n",
       "  <th>dummy_unit_R006</th>  <td>-1181.1254</td> <td>  149.261</td> <td>   -7.913</td> <td> 0.000</td> <td>-1473.679  -888.572</td>\n",
       "</tr>\n",
       "<tr>\n",
       "  <th>dummy_unit_R007</th>  <td>-1543.4724</td> <td>  153.504</td> <td>  -10.055</td> <td> 0.000</td> <td>-1844.343 -1242.602</td>\n",
       "</tr>\n",
       "<tr>\n",
       "  <th>dummy_unit_R008</th>  <td>-1544.3895</td> <td>  153.891</td> <td>  -10.036</td> <td> 0.000</td> <td>-1846.020 -1242.759</td>\n",
       "</tr>\n",
       "<tr>\n",
       "  <th>dummy_unit_R009</th>  <td>-1545.4387</td> <td>  151.289</td> <td>  -10.215</td> <td> 0.000</td> <td>-1841.969 -1248.908</td>\n",
       "</tr>\n",
       "<tr>\n",
       "  <th>dummy_unit_R011</th>  <td> 5572.6268</td> <td>  147.050</td> <td>   37.896</td> <td> 0.000</td> <td> 5284.406  5860.847</td>\n",
       "</tr>\n",
       "<tr>\n",
       "  <th>dummy_unit_R012</th>  <td> 6924.1883</td> <td>  146.260</td> <td>   47.342</td> <td> 0.000</td> <td> 6637.516  7210.861</td>\n",
       "</tr>\n",
       "<tr>\n",
       "  <th>dummy_unit_R013</th>  <td>  822.6291</td> <td>  146.260</td> <td>    5.624</td> <td> 0.000</td> <td>  535.957  1109.302</td>\n",
       "</tr>\n",
       "<tr>\n",
       "  <th>dummy_unit_R016</th>  <td>-1000.5830</td> <td>  147.050</td> <td>   -6.804</td> <td> 0.000</td> <td>-1288.805  -712.361</td>\n",
       "</tr>\n",
       "<tr>\n",
       "  <th>dummy_unit_R017</th>  <td> 2437.6238</td> <td>  146.260</td> <td>   16.666</td> <td> 0.000</td> <td> 2150.951  2724.296</td>\n",
       "</tr>\n",
       "<tr>\n",
       "  <th>dummy_unit_R018</th>  <td> 5986.4203</td> <td>  146.942</td> <td>   40.740</td> <td> 0.000</td> <td> 5698.411  6274.430</td>\n",
       "</tr>\n",
       "<tr>\n",
       "  <th>dummy_unit_R019</th>  <td> 1446.5116</td> <td>  146.826</td> <td>    9.852</td> <td> 0.000</td> <td> 1158.730  1734.293</td>\n",
       "</tr>\n",
       "<tr>\n",
       "  <th>dummy_unit_R020</th>  <td> 4613.7205</td> <td>  146.260</td> <td>   31.545</td> <td> 0.000</td> <td> 4327.048  4900.393</td>\n",
       "</tr>\n",
       "<tr>\n",
       "  <th>dummy_unit_R021</th>  <td> 2924.2080</td> <td>  147.048</td> <td>   19.886</td> <td> 0.000</td> <td> 2635.991  3212.425</td>\n",
       "</tr>\n",
       "<tr>\n",
       "  <th>dummy_unit_R022</th>  <td> 7758.1130</td> <td>  146.260</td> <td>   53.043</td> <td> 0.000</td> <td> 7471.440  8044.786</td>\n",
       "</tr>\n",
       "<tr>\n",
       "  <th>dummy_unit_R023</th>  <td> 4393.2904</td> <td>  146.260</td> <td>   30.038</td> <td> 0.000</td> <td> 4106.618  4679.963</td>\n",
       "</tr>\n",
       "<tr>\n",
       "  <th>dummy_unit_R024</th>  <td> 1408.4751</td> <td>  147.216</td> <td>    9.567</td> <td> 0.000</td> <td> 1119.929  1697.021</td>\n",
       "</tr>\n",
       "<tr>\n",
       "  <th>dummy_unit_R025</th>  <td> 3543.4040</td> <td>  146.826</td> <td>   24.133</td> <td> 0.000</td> <td> 3255.623  3831.185</td>\n",
       "</tr>\n",
       "<tr>\n",
       "  <th>dummy_unit_R027</th>  <td> 1207.7259</td> <td>  146.260</td> <td>    8.257</td> <td> 0.000</td> <td>  921.053  1494.399</td>\n",
       "</tr>\n",
       "<tr>\n",
       "  <th>dummy_unit_R029</th>  <td> 5469.6990</td> <td>  146.260</td> <td>   37.397</td> <td> 0.000</td> <td> 5183.026  5756.372</td>\n",
       "</tr>\n",
       "<tr>\n",
       "  <th>dummy_unit_R030</th>  <td> 1339.8926</td> <td>  146.260</td> <td>    9.161</td> <td> 0.000</td> <td> 1053.220  1626.565</td>\n",
       "</tr>\n",
       "<tr>\n",
       "  <th>dummy_unit_R031</th>  <td> 2591.6614</td> <td>  146.260</td> <td>   17.720</td> <td> 0.000</td> <td> 2304.989  2878.334</td>\n",
       "</tr>\n",
       "<tr>\n",
       "  <th>dummy_unit_R032</th>  <td> 2686.5200</td> <td>  146.652</td> <td>   18.319</td> <td> 0.000</td> <td> 2399.079  2973.961</td>\n",
       "</tr>\n",
       "<tr>\n",
       "  <th>dummy_unit_R033</th>  <td> 6474.6721</td> <td>  146.260</td> <td>   44.268</td> <td> 0.000</td> <td> 6188.000  6761.345</td>\n",
       "</tr>\n",
       "<tr>\n",
       "  <th>dummy_unit_R034</th>  <td> -642.4973</td> <td>  152.941</td> <td>   -4.201</td> <td> 0.000</td> <td> -942.264  -342.731</td>\n",
       "</tr>\n",
       "<tr>\n",
       "  <th>dummy_unit_R035</th>  <td> 1037.4268</td> <td>  147.045</td> <td>    7.055</td> <td> 0.000</td> <td>  749.216  1325.637</td>\n",
       "</tr>\n",
       "<tr>\n",
       "  <th>dummy_unit_R036</th>  <td>-1067.3904</td> <td>  150.218</td> <td>   -7.106</td> <td> 0.000</td> <td>-1361.822  -772.959</td>\n",
       "</tr>\n",
       "<tr>\n",
       "  <th>dummy_unit_R037</th>  <td> -944.6942</td> <td>  147.716</td> <td>   -6.395</td> <td> 0.000</td> <td>-1234.220  -655.168</td>\n",
       "</tr>\n",
       "<tr>\n",
       "  <th>dummy_unit_R038</th>  <td>-1596.6993</td> <td>  151.056</td> <td>  -10.570</td> <td> 0.000</td> <td>-1892.772 -1300.627</td>\n",
       "</tr>\n",
       "<tr>\n",
       "  <th>dummy_unit_R039</th>  <td>-1079.4666</td> <td>  155.009</td> <td>   -6.964</td> <td> 0.000</td> <td>-1383.288  -775.646</td>\n",
       "</tr>\n",
       "<tr>\n",
       "  <th>dummy_unit_R040</th>  <td> -544.2544</td> <td>  147.337</td> <td>   -3.694</td> <td> 0.000</td> <td> -833.038  -255.470</td>\n",
       "</tr>\n",
       "<tr>\n",
       "  <th>dummy_unit_R041</th>  <td> 1339.7044</td> <td>  146.260</td> <td>    9.160</td> <td> 0.000</td> <td> 1053.032  1626.377</td>\n",
       "</tr>\n",
       "<tr>\n",
       "  <th>dummy_unit_R042</th>  <td>-1175.8208</td> <td>  148.659</td> <td>   -7.909</td> <td> 0.000</td> <td>-1467.196  -884.445</td>\n",
       "</tr>\n",
       "<tr>\n",
       "  <th>dummy_unit_R043</th>  <td> 1126.8388</td> <td>  146.260</td> <td>    7.704</td> <td> 0.000</td> <td>  840.166  1413.511</td>\n",
       "</tr>\n",
       "<tr>\n",
       "  <th>dummy_unit_R044</th>  <td> 2918.2474</td> <td>  146.260</td> <td>   19.952</td> <td> 0.000</td> <td> 2631.575  3204.920</td>\n",
       "</tr>\n",
       "<tr>\n",
       "  <th>dummy_unit_R046</th>  <td> 6584.6990</td> <td>  146.260</td> <td>   45.020</td> <td> 0.000</td> <td> 6298.026  6871.372</td>\n",
       "</tr>\n",
       "<tr>\n",
       "  <th>dummy_unit_R049</th>  <td> 1012.5109</td> <td>  146.260</td> <td>    6.923</td> <td> 0.000</td> <td>  725.838  1299.183</td>\n",
       "</tr>\n",
       "<tr>\n",
       "  <th>dummy_unit_R050</th>  <td> 2266.8068</td> <td>  147.051</td> <td>   15.415</td> <td> 0.000</td> <td> 1978.584  2555.030</td>\n",
       "</tr>\n",
       "<tr>\n",
       "  <th>dummy_unit_R051</th>  <td> 3374.2528</td> <td>  146.260</td> <td>   23.070</td> <td> 0.000</td> <td> 3087.580  3660.925</td>\n",
       "</tr>\n",
       "<tr>\n",
       "  <th>dummy_unit_R052</th>  <td> -596.8702</td> <td>  152.372</td> <td>   -3.917</td> <td> 0.000</td> <td> -895.522  -298.218</td>\n",
       "</tr>\n",
       "<tr>\n",
       "  <th>dummy_unit_R053</th>  <td> 1381.3438</td> <td>  147.344</td> <td>    9.375</td> <td> 0.000</td> <td> 1092.546  1670.142</td>\n",
       "</tr>\n",
       "<tr>\n",
       "  <th>dummy_unit_R054</th>  <td> -299.1329</td> <td>  147.047</td> <td>   -2.034</td> <td> 0.042</td> <td> -587.348   -10.917</td>\n",
       "</tr>\n",
       "<tr>\n",
       "  <th>dummy_unit_R055</th>  <td> 6546.2114</td> <td>  146.550</td> <td>   44.669</td> <td> 0.000</td> <td> 6258.971  6833.452</td>\n",
       "</tr>\n",
       "<tr>\n",
       "  <th>dummy_unit_R056</th>  <td> -314.3080</td> <td>  147.050</td> <td>   -2.137</td> <td> 0.033</td> <td> -602.528   -26.088</td>\n",
       "</tr>\n",
       "<tr>\n",
       "  <th>dummy_unit_R057</th>  <td> 3122.6399</td> <td>  146.260</td> <td>   21.350</td> <td> 0.000</td> <td> 2835.967  3409.312</td>\n",
       "</tr>\n",
       "<tr>\n",
       "  <th>dummy_unit_R058</th>  <td>-1119.2999</td> <td>  146.657</td> <td>   -7.632</td> <td> 0.000</td> <td>-1406.750  -831.850</td>\n",
       "</tr>\n",
       "<tr>\n",
       "  <th>dummy_unit_R059</th>  <td> -577.0241</td> <td>  149.908</td> <td>   -3.849</td> <td> 0.000</td> <td> -870.846  -283.202</td>\n",
       "</tr>\n",
       "<tr>\n",
       "  <th>dummy_unit_R060</th>  <td> -973.0536</td> <td>  148.649</td> <td>   -6.546</td> <td> 0.000</td> <td>-1264.408  -681.699</td>\n",
       "</tr>\n",
       "<tr>\n",
       "  <th>dummy_unit_R061</th>  <td>-1177.0589</td> <td>  154.303</td> <td>   -7.628</td> <td> 0.000</td> <td>-1479.496  -874.621</td>\n",
       "</tr>\n",
       "<tr>\n",
       "  <th>dummy_unit_R062</th>  <td>  976.5001</td> <td>  146.260</td> <td>    6.676</td> <td> 0.000</td> <td>  689.827  1263.173</td>\n",
       "</tr>\n",
       "<tr>\n",
       "  <th>dummy_unit_R063</th>  <td> -628.9232</td> <td>  153.853</td> <td>   -4.088</td> <td> 0.000</td> <td> -930.477  -327.369</td>\n",
       "</tr>\n",
       "<tr>\n",
       "  <th>dummy_unit_R064</th>  <td> -922.5094</td> <td>  150.327</td> <td>   -6.137</td> <td> 0.000</td> <td>-1217.154  -627.865</td>\n",
       "</tr>\n",
       "<tr>\n",
       "  <th>dummy_unit_R065</th>  <td> -930.3465</td> <td>  152.048</td> <td>   -6.119</td> <td> 0.000</td> <td>-1228.364  -632.329</td>\n",
       "</tr>\n",
       "<tr>\n",
       "  <th>dummy_unit_R066</th>  <td>-1535.6957</td> <td>  152.940</td> <td>  -10.041</td> <td> 0.000</td> <td>-1835.460 -1235.931</td>\n",
       "</tr>\n",
       "<tr>\n",
       "  <th>dummy_unit_R067</th>  <td> -947.5705</td> <td>  154.645</td> <td>   -6.127</td> <td> 0.000</td> <td>-1250.677  -644.464</td>\n",
       "</tr>\n",
       "<tr>\n",
       "  <th>dummy_unit_R068</th>  <td>-1356.6793</td> <td>  154.632</td> <td>   -8.774</td> <td> 0.000</td> <td>-1659.761 -1053.597</td>\n",
       "</tr>\n",
       "<tr>\n",
       "  <th>dummy_unit_R069</th>  <td> -862.7182</td> <td>  151.922</td> <td>   -5.679</td> <td> 0.000</td> <td>-1160.489  -564.948</td>\n",
       "</tr>\n",
       "<tr>\n",
       "  <th>dummy_unit_R070</th>  <td>   27.4786</td> <td>  146.260</td> <td>    0.188</td> <td> 0.851</td> <td> -259.194   314.151</td>\n",
       "</tr>\n",
       "<tr>\n",
       "  <th>dummy_unit_R080</th>  <td> 1851.8066</td> <td>  146.260</td> <td>   12.661</td> <td> 0.000</td> <td> 1565.134  2138.479</td>\n",
       "</tr>\n",
       "<tr>\n",
       "  <th>dummy_unit_R081</th>  <td> 1802.1934</td> <td>  147.045</td> <td>   12.256</td> <td> 0.000</td> <td> 1513.982  2090.405</td>\n",
       "</tr>\n",
       "<tr>\n",
       "  <th>dummy_unit_R082</th>  <td> -257.6666</td> <td>  147.048</td> <td>   -1.752</td> <td> 0.080</td> <td> -545.883    30.550</td>\n",
       "</tr>\n",
       "<tr>\n",
       "  <th>dummy_unit_R083</th>  <td> 1366.2152</td> <td>  146.260</td> <td>    9.341</td> <td> 0.000</td> <td> 1079.543  1652.888</td>\n",
       "</tr>\n",
       "<tr>\n",
       "  <th>dummy_unit_R084</th>  <td> 8270.4894</td> <td>  146.260</td> <td>   56.546</td> <td> 0.000</td> <td> 7983.817  8557.162</td>\n",
       "</tr>\n",
       "<tr>\n",
       "  <th>dummy_unit_R085</th>  <td>  852.2504</td> <td>  147.044</td> <td>    5.796</td> <td> 0.000</td> <td>  564.042  1140.459</td>\n",
       "</tr>\n",
       "<tr>\n",
       "  <th>dummy_unit_R086</th>  <td>  839.8066</td> <td>  146.260</td> <td>    5.742</td> <td> 0.000</td> <td>  553.134  1126.479</td>\n",
       "</tr>\n",
       "<tr>\n",
       "  <th>dummy_unit_R087</th>  <td> -530.9045</td> <td>  147.851</td> <td>   -3.591</td> <td> 0.000</td> <td> -820.695  -241.114</td>\n",
       "</tr>\n",
       "<tr>\n",
       "  <th>dummy_unit_R089</th>  <td>-1246.7949</td> <td>  147.050</td> <td>   -8.479</td> <td> 0.000</td> <td>-1535.017  -958.573</td>\n",
       "</tr>\n",
       "<tr>\n",
       "  <th>dummy_unit_R090</th>  <td>-1382.6187</td> <td>  154.626</td> <td>   -8.942</td> <td> 0.000</td> <td>-1685.689 -1079.548</td>\n",
       "</tr>\n",
       "<tr>\n",
       "  <th>dummy_unit_R091</th>  <td> -669.0862</td> <td>  153.269</td> <td>   -4.365</td> <td> 0.000</td> <td> -969.496  -368.677</td>\n",
       "</tr>\n",
       "<tr>\n",
       "  <th>dummy_unit_R092</th>  <td>  207.7519</td> <td>  150.620</td> <td>    1.379</td> <td> 0.168</td> <td>  -87.467   502.970</td>\n",
       "</tr>\n",
       "<tr>\n",
       "  <th>dummy_unit_R093</th>  <td>  242.0095</td> <td>  151.446</td> <td>    1.598</td> <td> 0.110</td> <td>  -54.828   538.847</td>\n",
       "</tr>\n",
       "<tr>\n",
       "  <th>dummy_unit_R094</th>  <td>  -18.4397</td> <td>  147.326</td> <td>   -0.125</td> <td> 0.900</td> <td> -307.201   270.322</td>\n",
       "</tr>\n",
       "<tr>\n",
       "  <th>dummy_unit_R095</th>  <td>  387.7447</td> <td>  148.547</td> <td>    2.610</td> <td> 0.009</td> <td>   96.589   678.900</td>\n",
       "</tr>\n",
       "<tr>\n",
       "  <th>dummy_unit_R096</th>  <td>  574.3806</td> <td>  146.931</td> <td>    3.909</td> <td> 0.000</td> <td>  286.394   862.368</td>\n",
       "</tr>\n",
       "<tr>\n",
       "  <th>dummy_unit_R097</th>  <td> 1195.4581</td> <td>  146.942</td> <td>    8.136</td> <td> 0.000</td> <td>  907.449  1483.468</td>\n",
       "</tr>\n",
       "<tr>\n",
       "  <th>dummy_unit_R098</th>  <td>   74.3657</td> <td>  146.260</td> <td>    0.508</td> <td> 0.611</td> <td> -212.307   361.038</td>\n",
       "</tr>\n",
       "<tr>\n",
       "  <th>dummy_unit_R099</th>  <td>  631.3926</td> <td>  146.260</td> <td>    4.317</td> <td> 0.000</td> <td>  344.720   918.065</td>\n",
       "</tr>\n",
       "<tr>\n",
       "  <th>dummy_unit_R100</th>  <td>-1223.0731</td> <td>  148.163</td> <td>   -8.255</td> <td> 0.000</td> <td>-1513.475  -932.671</td>\n",
       "</tr>\n",
       "<tr>\n",
       "  <th>dummy_unit_R101</th>  <td> 1065.7850</td> <td>  146.260</td> <td>    7.287</td> <td> 0.000</td> <td>  779.112  1352.458</td>\n",
       "</tr>\n",
       "<tr>\n",
       "  <th>dummy_unit_R102</th>  <td> 1954.6238</td> <td>  146.260</td> <td>   13.364</td> <td> 0.000</td> <td> 1667.951  2241.296</td>\n",
       "</tr>\n",
       "<tr>\n",
       "  <th>dummy_unit_R103</th>  <td> -388.2589</td> <td>  152.342</td> <td>   -2.549</td> <td> 0.011</td> <td> -686.852   -89.666</td>\n",
       "</tr>\n",
       "<tr>\n",
       "  <th>dummy_unit_R104</th>  <td> -428.9434</td> <td>  147.320</td> <td>   -2.912</td> <td> 0.004</td> <td> -717.693  -140.193</td>\n",
       "</tr>\n",
       "<tr>\n",
       "  <th>dummy_unit_R105</th>  <td> 1604.3227</td> <td>  146.260</td> <td>   10.969</td> <td> 0.000</td> <td> 1317.650  1890.995</td>\n",
       "</tr>\n",
       "<tr>\n",
       "  <th>dummy_unit_R106</th>  <td> -720.8036</td> <td>  154.596</td> <td>   -4.662</td> <td> 0.000</td> <td>-1023.815  -417.792</td>\n",
       "</tr>\n",
       "<tr>\n",
       "  <th>dummy_unit_R107</th>  <td>-1313.5844</td> <td>  155.113</td> <td>   -8.469</td> <td> 0.000</td> <td>-1617.610 -1009.559</td>\n",
       "</tr>\n",
       "<tr>\n",
       "  <th>dummy_unit_R108</th>  <td> 3493.4894</td> <td>  146.260</td> <td>   23.885</td> <td> 0.000</td> <td> 3206.817  3780.162</td>\n",
       "</tr>\n",
       "<tr>\n",
       "  <th>dummy_unit_R111</th>  <td> 1490.6130</td> <td>  146.260</td> <td>   10.192</td> <td> 0.000</td> <td> 1203.940  1777.286</td>\n",
       "</tr>\n",
       "<tr>\n",
       "  <th>dummy_unit_R112</th>  <td>  -83.9329</td> <td>  146.931</td> <td>   -0.571</td> <td> 0.568</td> <td> -371.920   204.054</td>\n",
       "</tr>\n",
       "<tr>\n",
       "  <th>dummy_unit_R114</th>  <td> -877.6146</td> <td>  147.224</td> <td>   -5.961</td> <td> 0.000</td> <td>-1166.177  -589.052</td>\n",
       "</tr>\n",
       "<tr>\n",
       "  <th>dummy_unit_R115</th>  <td> -505.9992</td> <td>  146.826</td> <td>   -3.446</td> <td> 0.001</td> <td> -793.780  -218.218</td>\n",
       "</tr>\n",
       "<tr>\n",
       "  <th>dummy_unit_R116</th>  <td> 1469.7582</td> <td>  146.260</td> <td>   10.049</td> <td> 0.000</td> <td> 1183.086  1756.431</td>\n",
       "</tr>\n",
       "<tr>\n",
       "  <th>dummy_unit_R117</th>  <td> -910.0417</td> <td>  154.134</td> <td>   -5.904</td> <td> 0.000</td> <td>-1212.147  -607.937</td>\n",
       "</tr>\n",
       "<tr>\n",
       "  <th>dummy_unit_R119</th>  <td>   82.3107</td> <td>  149.355</td> <td>    0.551</td> <td> 0.582</td> <td> -210.427   375.049</td>\n",
       "</tr>\n",
       "<tr>\n",
       "  <th>dummy_unit_R120</th>  <td> -260.6812</td> <td>  151.466</td> <td>   -1.721</td> <td> 0.085</td> <td> -557.557    36.195</td>\n",
       "</tr>\n",
       "<tr>\n",
       "  <th>dummy_unit_R121</th>  <td> -272.5451</td> <td>  150.325</td> <td>   -1.813</td> <td> 0.070</td> <td> -567.186    22.096</td>\n",
       "</tr>\n",
       "<tr>\n",
       "  <th>dummy_unit_R122</th>  <td>  807.1916</td> <td>  148.556</td> <td>    5.434</td> <td> 0.000</td> <td>  516.019  1098.364</td>\n",
       "</tr>\n",
       "<tr>\n",
       "  <th>dummy_unit_R123</th>  <td> -105.7462</td> <td>  148.670</td> <td>   -0.711</td> <td> 0.477</td> <td> -397.141   185.649</td>\n",
       "</tr>\n",
       "<tr>\n",
       "  <th>dummy_unit_R124</th>  <td>-1094.4114</td> <td>  152.495</td> <td>   -7.177</td> <td> 0.000</td> <td>-1393.305  -795.518</td>\n",
       "</tr>\n",
       "<tr>\n",
       "  <th>dummy_unit_R126</th>  <td>  131.6668</td> <td>  146.260</td> <td>    0.900</td> <td> 0.368</td> <td> -155.006   418.339</td>\n",
       "</tr>\n",
       "<tr>\n",
       "  <th>dummy_unit_R127</th>  <td> 3072.3764</td> <td>  146.260</td> <td>   21.006</td> <td> 0.000</td> <td> 2785.704  3359.049</td>\n",
       "</tr>\n",
       "<tr>\n",
       "  <th>dummy_unit_R137</th>  <td>  692.1200</td> <td>  146.550</td> <td>    4.723</td> <td> 0.000</td> <td>  404.880   979.360</td>\n",
       "</tr>\n",
       "<tr>\n",
       "  <th>dummy_unit_R139</th>  <td>  806.5325</td> <td>  146.655</td> <td>    5.500</td> <td> 0.000</td> <td>  519.085  1093.980</td>\n",
       "</tr>\n",
       "<tr>\n",
       "  <th>dummy_unit_R163</th>  <td> 1608.1130</td> <td>  146.260</td> <td>   10.995</td> <td> 0.000</td> <td> 1321.440  1894.786</td>\n",
       "</tr>\n",
       "<tr>\n",
       "  <th>dummy_unit_R172</th>  <td>  174.1506</td> <td>  146.260</td> <td>    1.191</td> <td> 0.234</td> <td> -112.522   460.823</td>\n",
       "</tr>\n",
       "<tr>\n",
       "  <th>dummy_unit_R179</th>  <td> 5054.9248</td> <td>  146.260</td> <td>   34.561</td> <td> 0.000</td> <td> 4768.252  5341.597</td>\n",
       "</tr>\n",
       "<tr>\n",
       "  <th>dummy_unit_R181</th>  <td>   31.7805</td> <td>  149.069</td> <td>    0.213</td> <td> 0.831</td> <td> -260.397   323.958</td>\n",
       "</tr>\n",
       "<tr>\n",
       "  <th>dummy_unit_R183</th>  <td>-1028.4993</td> <td>  155.059</td> <td>   -6.633</td> <td> 0.000</td> <td>-1332.417  -724.581</td>\n",
       "</tr>\n",
       "<tr>\n",
       "  <th>dummy_unit_R184</th>  <td> -746.6065</td> <td>  152.936</td> <td>   -4.882</td> <td> 0.000</td> <td>-1046.364  -446.849</td>\n",
       "</tr>\n",
       "<tr>\n",
       "  <th>dummy_unit_R186</th>  <td> -644.3238</td> <td>  148.258</td> <td>   -4.346</td> <td> 0.000</td> <td> -934.913  -353.735</td>\n",
       "</tr>\n",
       "<tr>\n",
       "  <th>dummy_unit_R188</th>  <td>  608.2227</td> <td>  146.652</td> <td>    4.147</td> <td> 0.000</td> <td>  320.782   895.663</td>\n",
       "</tr>\n",
       "<tr>\n",
       "  <th>dummy_unit_R189</th>  <td> -333.5707</td> <td>  149.902</td> <td>   -2.225</td> <td> 0.026</td> <td> -627.381   -39.760</td>\n",
       "</tr>\n",
       "<tr>\n",
       "  <th>dummy_unit_R194</th>  <td>  270.4832</td> <td>  149.085</td> <td>    1.814</td> <td> 0.070</td> <td>  -21.726   562.693</td>\n",
       "</tr>\n",
       "<tr>\n",
       "  <th>dummy_unit_R196</th>  <td> -391.8233</td> <td>  147.446</td> <td>   -2.657</td> <td> 0.008</td> <td> -680.820  -102.827</td>\n",
       "</tr>\n",
       "<tr>\n",
       "  <th>dummy_unit_R198</th>  <td>  392.2692</td> <td>  147.048</td> <td>    2.668</td> <td> 0.008</td> <td>  104.053   680.486</td>\n",
       "</tr>\n",
       "<tr>\n",
       "  <th>dummy_unit_R199</th>  <td>-1006.0390</td> <td>  149.070</td> <td>   -6.749</td> <td> 0.000</td> <td>-1298.220  -713.858</td>\n",
       "</tr>\n",
       "<tr>\n",
       "  <th>dummy_unit_R200</th>  <td> -708.7359</td> <td>  148.378</td> <td>   -4.777</td> <td> 0.000</td> <td> -999.560  -417.912</td>\n",
       "</tr>\n",
       "<tr>\n",
       "  <th>dummy_unit_R202</th>  <td>  479.0422</td> <td>  147.331</td> <td>    3.251</td> <td> 0.001</td> <td>  190.271   767.814</td>\n",
       "</tr>\n",
       "<tr>\n",
       "  <th>dummy_unit_R203</th>  <td>   39.2556</td> <td>  150.750</td> <td>    0.260</td> <td> 0.795</td> <td> -256.218   334.729</td>\n",
       "</tr>\n",
       "<tr>\n",
       "  <th>dummy_unit_R204</th>  <td> -264.3494</td> <td>  146.260</td> <td>   -1.807</td> <td> 0.071</td> <td> -551.022    22.323</td>\n",
       "</tr>\n",
       "<tr>\n",
       "  <th>dummy_unit_R205</th>  <td> -239.5312</td> <td>  148.150</td> <td>   -1.617</td> <td> 0.106</td> <td> -529.909    50.846</td>\n",
       "</tr>\n",
       "<tr>\n",
       "  <th>dummy_unit_R207</th>  <td>  285.7817</td> <td>  146.657</td> <td>    1.949</td> <td> 0.051</td> <td>   -1.668   573.232</td>\n",
       "</tr>\n",
       "<tr>\n",
       "  <th>dummy_unit_R208</th>  <td>  762.6277</td> <td>  148.123</td> <td>    5.149</td> <td> 0.000</td> <td>  472.303  1052.952</td>\n",
       "</tr>\n",
       "<tr>\n",
       "  <th>dummy_unit_R209</th>  <td> -952.7125</td> <td>  153.842</td> <td>   -6.193</td> <td> 0.000</td> <td>-1254.246  -651.179</td>\n",
       "</tr>\n",
       "<tr>\n",
       "  <th>dummy_unit_R210</th>  <td>-1188.9477</td> <td>  149.916</td> <td>   -7.931</td> <td> 0.000</td> <td>-1482.785  -895.110</td>\n",
       "</tr>\n",
       "<tr>\n",
       "  <th>dummy_unit_R211</th>  <td>  693.0807</td> <td>  146.260</td> <td>    4.739</td> <td> 0.000</td> <td>  406.408   979.753</td>\n",
       "</tr>\n",
       "<tr>\n",
       "  <th>dummy_unit_R212</th>  <td>  -26.6798</td> <td>  146.652</td> <td>   -0.182</td> <td> 0.856</td> <td> -314.120   260.760</td>\n",
       "</tr>\n",
       "<tr>\n",
       "  <th>dummy_unit_R213</th>  <td> -566.5364</td> <td>  149.483</td> <td>   -3.790</td> <td> 0.000</td> <td> -859.527  -273.546</td>\n",
       "</tr>\n",
       "<tr>\n",
       "  <th>dummy_unit_R214</th>  <td>-1077.8515</td> <td>  154.306</td> <td>   -6.985</td> <td> 0.000</td> <td>-1380.295  -775.408</td>\n",
       "</tr>\n",
       "<tr>\n",
       "  <th>dummy_unit_R215</th>  <td> -117.6584</td> <td>  147.045</td> <td>   -0.800</td> <td> 0.424</td> <td> -405.869   170.552</td>\n",
       "</tr>\n",
       "<tr>\n",
       "  <th>dummy_unit_R216</th>  <td> -946.7638</td> <td>  147.047</td> <td>   -6.439</td> <td> 0.000</td> <td>-1234.978  -658.549</td>\n",
       "</tr>\n",
       "<tr>\n",
       "  <th>dummy_unit_R217</th>  <td> -741.1690</td> <td>  153.849</td> <td>   -4.817</td> <td> 0.000</td> <td>-1042.717  -439.621</td>\n",
       "</tr>\n",
       "<tr>\n",
       "  <th>dummy_unit_R218</th>  <td>  238.7622</td> <td>  146.944</td> <td>    1.625</td> <td> 0.104</td> <td>  -49.251   526.776</td>\n",
       "</tr>\n",
       "<tr>\n",
       "  <th>dummy_unit_R219</th>  <td> -479.8883</td> <td>  147.342</td> <td>   -3.257</td> <td> 0.001</td> <td> -768.682  -191.095</td>\n",
       "</tr>\n",
       "<tr>\n",
       "  <th>dummy_unit_R220</th>  <td> -232.1934</td> <td>  146.260</td> <td>   -1.588</td> <td> 0.112</td> <td> -518.866    54.479</td>\n",
       "</tr>\n",
       "<tr>\n",
       "  <th>dummy_unit_R221</th>  <td> -331.7607</td> <td>  154.307</td> <td>   -2.150</td> <td> 0.032</td> <td> -634.206   -29.315</td>\n",
       "</tr>\n",
       "<tr>\n",
       "  <th>dummy_unit_R223</th>  <td>  378.3265</td> <td>  146.931</td> <td>    2.575</td> <td> 0.010</td> <td>   90.340   666.314</td>\n",
       "</tr>\n",
       "<tr>\n",
       "  <th>dummy_unit_R224</th>  <td> -992.0034</td> <td>  150.331</td> <td>   -6.599</td> <td> 0.000</td> <td>-1286.655  -697.352</td>\n",
       "</tr>\n",
       "<tr>\n",
       "  <th>dummy_unit_R225</th>  <td>-1138.7230</td> <td>  148.261</td> <td>   -7.681</td> <td> 0.000</td> <td>-1429.318  -848.128</td>\n",
       "</tr>\n",
       "<tr>\n",
       "  <th>dummy_unit_R226</th>  <td>-1049.8926</td> <td>  153.253</td> <td>   -6.851</td> <td> 0.000</td> <td>-1350.272  -749.513</td>\n",
       "</tr>\n",
       "<tr>\n",
       "  <th>dummy_unit_R227</th>  <td> -612.9300</td> <td>  146.260</td> <td>   -4.191</td> <td> 0.000</td> <td> -899.603  -326.257</td>\n",
       "</tr>\n",
       "<tr>\n",
       "  <th>dummy_unit_R228</th>  <td> -597.8224</td> <td>  153.389</td> <td>   -3.897</td> <td> 0.000</td> <td> -898.469  -297.176</td>\n",
       "</tr>\n",
       "<tr>\n",
       "  <th>dummy_unit_R229</th>  <td>-1165.6685</td> <td>  152.495</td> <td>   -7.644</td> <td> 0.000</td> <td>-1464.562  -866.775</td>\n",
       "</tr>\n",
       "<tr>\n",
       "  <th>dummy_unit_R230</th>  <td>-1205.2479</td> <td>  150.761</td> <td>   -7.994</td> <td> 0.000</td> <td>-1500.742  -909.754</td>\n",
       "</tr>\n",
       "<tr>\n",
       "  <th>dummy_unit_R231</th>  <td> -745.6097</td> <td>  148.250</td> <td>   -5.029</td> <td> 0.000</td> <td>-1036.182  -455.037</td>\n",
       "</tr>\n",
       "<tr>\n",
       "  <th>dummy_unit_R232</th>  <td> -709.9695</td> <td>  152.050</td> <td>   -4.669</td> <td> 0.000</td> <td>-1007.991  -411.948</td>\n",
       "</tr>\n",
       "<tr>\n",
       "  <th>dummy_unit_R233</th>  <td> -642.8029</td> <td>  155.242</td> <td>   -4.141</td> <td> 0.000</td> <td> -947.080  -338.525</td>\n",
       "</tr>\n",
       "<tr>\n",
       "  <th>dummy_unit_R234</th>  <td>-1430.3796</td> <td>  153.866</td> <td>   -9.296</td> <td> 0.000</td> <td>-1731.960 -1128.799</td>\n",
       "</tr>\n",
       "<tr>\n",
       "  <th>dummy_unit_R235</th>  <td>  858.8028</td> <td>  146.657</td> <td>    5.856</td> <td> 0.000</td> <td>  571.353  1146.253</td>\n",
       "</tr>\n",
       "<tr>\n",
       "  <th>dummy_unit_R236</th>  <td> -223.8610</td> <td>  148.138</td> <td>   -1.511</td> <td> 0.131</td> <td> -514.214    66.492</td>\n",
       "</tr>\n",
       "<tr>\n",
       "  <th>dummy_unit_R237</th>  <td>-1116.9412</td> <td>  153.667</td> <td>   -7.269</td> <td> 0.000</td> <td>-1418.131  -815.751</td>\n",
       "</tr>\n",
       "<tr>\n",
       "  <th>dummy_unit_R238</th>  <td>  360.7550</td> <td>  146.944</td> <td>    2.455</td> <td> 0.014</td> <td>   72.742   648.768</td>\n",
       "</tr>\n",
       "<tr>\n",
       "  <th>dummy_unit_R239</th>  <td> -815.7687</td> <td>  146.260</td> <td>   -5.578</td> <td> 0.000</td> <td>-1102.441  -529.096</td>\n",
       "</tr>\n",
       "<tr>\n",
       "  <th>dummy_unit_R240</th>  <td>  943.8987</td> <td>  147.442</td> <td>    6.402</td> <td> 0.000</td> <td>  654.909  1232.889</td>\n",
       "</tr>\n",
       "<tr>\n",
       "  <th>dummy_unit_R242</th>  <td>-1173.1895</td> <td>  149.481</td> <td>   -7.848</td> <td> 0.000</td> <td>-1466.176  -880.203</td>\n",
       "</tr>\n",
       "<tr>\n",
       "  <th>dummy_unit_R243</th>  <td> -379.4057</td> <td>  151.917</td> <td>   -2.497</td> <td> 0.013</td> <td> -677.167   -81.644</td>\n",
       "</tr>\n",
       "<tr>\n",
       "  <th>dummy_unit_R244</th>  <td> -146.1280</td> <td>  151.879</td> <td>   -0.962</td> <td> 0.336</td> <td> -443.813   151.557</td>\n",
       "</tr>\n",
       "<tr>\n",
       "  <th>dummy_unit_R246</th>  <td>-1057.4308</td> <td>  153.413</td> <td>   -6.893</td> <td> 0.000</td> <td>-1358.123  -756.739</td>\n",
       "</tr>\n",
       "<tr>\n",
       "  <th>dummy_unit_R247</th>  <td>-1604.6248</td> <td>  156.185</td> <td>  -10.274</td> <td> 0.000</td> <td>-1910.750 -1298.500</td>\n",
       "</tr>\n",
       "<tr>\n",
       "  <th>dummy_unit_R248</th>  <td> 1388.8622</td> <td>  146.655</td> <td>    9.470</td> <td> 0.000</td> <td> 1101.415  1676.310</td>\n",
       "</tr>\n",
       "<tr>\n",
       "  <th>dummy_unit_R249</th>  <td> -359.8433</td> <td>  148.659</td> <td>   -2.421</td> <td> 0.015</td> <td> -651.219   -68.468</td>\n",
       "</tr>\n",
       "<tr>\n",
       "  <th>dummy_unit_R250</th>  <td> -748.5816</td> <td>  149.487</td> <td>   -5.008</td> <td> 0.000</td> <td>-1041.579  -455.584</td>\n",
       "</tr>\n",
       "<tr>\n",
       "  <th>dummy_unit_R251</th>  <td> -441.6834</td> <td>  147.434</td> <td>   -2.996</td> <td> 0.003</td> <td> -730.656  -152.711</td>\n",
       "</tr>\n",
       "<tr>\n",
       "  <th>dummy_unit_R252</th>  <td> -756.8224</td> <td>  147.044</td> <td>   -5.147</td> <td> 0.000</td> <td>-1045.033  -468.612</td>\n",
       "</tr>\n",
       "<tr>\n",
       "  <th>dummy_unit_R253</th>  <td>-1011.0815</td> <td>  152.424</td> <td>   -6.633</td> <td> 0.000</td> <td>-1309.835  -712.328</td>\n",
       "</tr>\n",
       "<tr>\n",
       "  <th>dummy_unit_R254</th>  <td>  846.7765</td> <td>  146.938</td> <td>    5.763</td> <td> 0.000</td> <td>  558.775  1134.778</td>\n",
       "</tr>\n",
       "<tr>\n",
       "  <th>dummy_unit_R255</th>  <td> -987.7410</td> <td>  148.381</td> <td>   -6.657</td> <td> 0.000</td> <td>-1278.571  -696.911</td>\n",
       "</tr>\n",
       "<tr>\n",
       "  <th>dummy_unit_R256</th>  <td> -650.6032</td> <td>  147.046</td> <td>   -4.424</td> <td> 0.000</td> <td> -938.816  -362.391</td>\n",
       "</tr>\n",
       "<tr>\n",
       "  <th>dummy_unit_R257</th>  <td>  171.4033</td> <td>  146.260</td> <td>    1.172</td> <td> 0.241</td> <td> -115.269   458.076</td>\n",
       "</tr>\n",
       "<tr>\n",
       "  <th>dummy_unit_R258</th>  <td> -193.0889</td> <td>  147.445</td> <td>   -1.310</td> <td> 0.190</td> <td> -482.083    95.906</td>\n",
       "</tr>\n",
       "<tr>\n",
       "  <th>dummy_unit_R259</th>  <td> -790.4786</td> <td>  148.656</td> <td>   -5.318</td> <td> 0.000</td> <td>-1081.846  -499.111</td>\n",
       "</tr>\n",
       "<tr>\n",
       "  <th>dummy_unit_R260</th>  <td> -645.1790</td> <td>  159.638</td> <td>   -4.042</td> <td> 0.000</td> <td> -958.073  -332.285</td>\n",
       "</tr>\n",
       "<tr>\n",
       "  <th>dummy_unit_R261</th>  <td> -195.3432</td> <td>  150.208</td> <td>   -1.300</td> <td> 0.193</td> <td> -489.755    99.068</td>\n",
       "</tr>\n",
       "<tr>\n",
       "  <th>dummy_unit_R262</th>  <td>-1295.1891</td> <td>  156.186</td> <td>   -8.293</td> <td> 0.000</td> <td>-1601.317  -989.061</td>\n",
       "</tr>\n",
       "<tr>\n",
       "  <th>dummy_unit_R263</th>  <td>-1589.4049</td> <td>  149.489</td> <td>  -10.632</td> <td> 0.000</td> <td>-1882.407 -1296.403</td>\n",
       "</tr>\n",
       "<tr>\n",
       "  <th>dummy_unit_R264</th>  <td>-1243.3973</td> <td>  146.654</td> <td>   -8.478</td> <td> 0.000</td> <td>-1530.843  -955.952</td>\n",
       "</tr>\n",
       "<tr>\n",
       "  <th>dummy_unit_R265</th>  <td> -873.1244</td> <td>  152.501</td> <td>   -5.725</td> <td> 0.000</td> <td>-1172.030  -574.219</td>\n",
       "</tr>\n",
       "<tr>\n",
       "  <th>dummy_unit_R266</th>  <td> -839.4319</td> <td>  146.935</td> <td>   -5.713</td> <td> 0.000</td> <td>-1127.428  -551.436</td>\n",
       "</tr>\n",
       "<tr>\n",
       "  <th>dummy_unit_R269</th>  <td> -835.2053</td> <td>  147.046</td> <td>   -5.680</td> <td> 0.000</td> <td>-1123.419  -546.992</td>\n",
       "</tr>\n",
       "<tr>\n",
       "  <th>dummy_unit_R270</th>  <td>-1253.9410</td> <td>  153.407</td> <td>   -8.174</td> <td> 0.000</td> <td>-1554.622  -953.260</td>\n",
       "</tr>\n",
       "<tr>\n",
       "  <th>dummy_unit_R271</th>  <td>-1370.8520</td> <td>  152.941</td> <td>   -8.963</td> <td> 0.000</td> <td>-1670.619 -1071.085</td>\n",
       "</tr>\n",
       "<tr>\n",
       "  <th>dummy_unit_R273</th>  <td> -370.3923</td> <td>  153.855</td> <td>   -2.407</td> <td> 0.016</td> <td> -671.951   -68.834</td>\n",
       "</tr>\n",
       "<tr>\n",
       "  <th>dummy_unit_R274</th>  <td> -778.7098</td> <td>  152.056</td> <td>   -5.121</td> <td> 0.000</td> <td>-1076.743  -480.676</td>\n",
       "</tr>\n",
       "<tr>\n",
       "  <th>dummy_unit_R275</th>  <td> -865.4524</td> <td>  150.243</td> <td>   -5.760</td> <td> 0.000</td> <td>-1159.932  -570.972</td>\n",
       "</tr>\n",
       "<tr>\n",
       "  <th>dummy_unit_R276</th>  <td> -306.0590</td> <td>  146.260</td> <td>   -2.093</td> <td> 0.036</td> <td> -592.732   -19.386</td>\n",
       "</tr>\n",
       "<tr>\n",
       "  <th>dummy_unit_R277</th>  <td>-1325.4405</td> <td>  157.655</td> <td>   -8.407</td> <td> 0.000</td> <td>-1634.447 -1016.433</td>\n",
       "</tr>\n",
       "<tr>\n",
       "  <th>dummy_unit_R278</th>  <td>-1369.5669</td> <td>  152.501</td> <td>   -8.981</td> <td> 0.000</td> <td>-1668.472 -1070.662</td>\n",
       "</tr>\n",
       "<tr>\n",
       "  <th>dummy_unit_R279</th>  <td> -996.5981</td> <td>  149.385</td> <td>   -6.671</td> <td> 0.000</td> <td>-1289.396  -703.800</td>\n",
       "</tr>\n",
       "<tr>\n",
       "  <th>dummy_unit_R280</th>  <td>-1104.7027</td> <td>  156.645</td> <td>   -7.052</td> <td> 0.000</td> <td>-1411.731  -797.675</td>\n",
       "</tr>\n",
       "<tr>\n",
       "  <th>dummy_unit_R281</th>  <td> -441.9684</td> <td>  148.642</td> <td>   -2.973</td> <td> 0.003</td> <td> -733.310  -150.626</td>\n",
       "</tr>\n",
       "<tr>\n",
       "  <th>dummy_unit_R282</th>  <td> -135.0834</td> <td>  147.054</td> <td>   -0.919</td> <td> 0.358</td> <td> -423.312   153.145</td>\n",
       "</tr>\n",
       "<tr>\n",
       "  <th>dummy_unit_R284</th>  <td> -948.4257</td> <td>  147.044</td> <td>   -6.450</td> <td> 0.000</td> <td>-1236.636  -660.216</td>\n",
       "</tr>\n",
       "<tr>\n",
       "  <th>dummy_unit_R285</th>  <td>-1207.9435</td> <td>  154.782</td> <td>   -7.804</td> <td> 0.000</td> <td>-1511.319  -904.568</td>\n",
       "</tr>\n",
       "<tr>\n",
       "  <th>dummy_unit_R287</th>  <td>-1208.1484</td> <td>  154.777</td> <td>   -7.806</td> <td> 0.000</td> <td>-1511.514  -904.783</td>\n",
       "</tr>\n",
       "<tr>\n",
       "  <th>dummy_unit_R291</th>  <td>   87.1721</td> <td>  146.260</td> <td>    0.596</td> <td> 0.551</td> <td> -199.500   373.845</td>\n",
       "</tr>\n",
       "<tr>\n",
       "  <th>dummy_unit_R294</th>  <td> -791.1294</td> <td>  149.921</td> <td>   -5.277</td> <td> 0.000</td> <td>-1084.978  -497.281</td>\n",
       "</tr>\n",
       "<tr>\n",
       "  <th>dummy_unit_R295</th>  <td>-1184.7607</td> <td>  169.921</td> <td>   -6.972</td> <td> 0.000</td> <td>-1517.810  -851.712</td>\n",
       "</tr>\n",
       "<tr>\n",
       "  <th>dummy_unit_R300</th>  <td>  496.2367</td> <td>  146.260</td> <td>    3.393</td> <td> 0.001</td> <td>  209.564   782.909</td>\n",
       "</tr>\n",
       "<tr>\n",
       "  <th>dummy_unit_R303</th>  <td> -495.0720</td> <td>  148.662</td> <td>   -3.330</td> <td> 0.001</td> <td> -786.453  -203.691</td>\n",
       "</tr>\n",
       "<tr>\n",
       "  <th>dummy_unit_R304</th>  <td> -637.3100</td> <td>  147.050</td> <td>   -4.334</td> <td> 0.000</td> <td> -925.530  -349.090</td>\n",
       "</tr>\n",
       "<tr>\n",
       "  <th>dummy_unit_R307</th>  <td>-1464.6817</td> <td>  155.077</td> <td>   -9.445</td> <td> 0.000</td> <td>-1768.636 -1160.727</td>\n",
       "</tr>\n",
       "<tr>\n",
       "  <th>dummy_unit_R308</th>  <td> -990.0029</td> <td>  151.933</td> <td>   -6.516</td> <td> 0.000</td> <td>-1287.794  -692.212</td>\n",
       "</tr>\n",
       "<tr>\n",
       "  <th>dummy_unit_R309</th>  <td> -955.5533</td> <td>  151.504</td> <td>   -6.307</td> <td> 0.000</td> <td>-1252.504  -658.603</td>\n",
       "</tr>\n",
       "<tr>\n",
       "  <th>dummy_unit_R310</th>  <td> -502.9137</td> <td>  153.226</td> <td>   -3.282</td> <td> 0.001</td> <td> -803.239  -202.588</td>\n",
       "</tr>\n",
       "<tr>\n",
       "  <th>dummy_unit_R311</th>  <td>-1347.4165</td> <td>  150.774</td> <td>   -8.937</td> <td> 0.000</td> <td>-1642.937 -1051.896</td>\n",
       "</tr>\n",
       "<tr>\n",
       "  <th>dummy_unit_R312</th>  <td>-1397.3758</td> <td>  147.443</td> <td>   -9.477</td> <td> 0.000</td> <td>-1686.367 -1108.384</td>\n",
       "</tr>\n",
       "<tr>\n",
       "  <th>dummy_unit_R313</th>  <td>-1755.8547</td> <td>  155.547</td> <td>  -11.288</td> <td> 0.000</td> <td>-2060.730 -1450.980</td>\n",
       "</tr>\n",
       "<tr>\n",
       "  <th>dummy_unit_R318</th>  <td>-1191.4664</td> <td>  147.850</td> <td>   -8.059</td> <td> 0.000</td> <td>-1481.256  -901.677</td>\n",
       "</tr>\n",
       "<tr>\n",
       "  <th>dummy_unit_R319</th>  <td> -387.9881</td> <td>  149.070</td> <td>   -2.603</td> <td> 0.009</td> <td> -680.169   -95.807</td>\n",
       "</tr>\n",
       "<tr>\n",
       "  <th>dummy_unit_R321</th>  <td> -641.1666</td> <td>  146.260</td> <td>   -4.384</td> <td> 0.000</td> <td> -927.839  -354.494</td>\n",
       "</tr>\n",
       "<tr>\n",
       "  <th>dummy_unit_R322</th>  <td>   38.9456</td> <td>  149.075</td> <td>    0.261</td> <td> 0.794</td> <td> -253.245   331.136</td>\n",
       "</tr>\n",
       "<tr>\n",
       "  <th>dummy_unit_R323</th>  <td> -485.3897</td> <td>  152.043</td> <td>   -3.192</td> <td> 0.001</td> <td> -783.398  -187.381</td>\n",
       "</tr>\n",
       "<tr>\n",
       "  <th>dummy_unit_R325</th>  <td>-1447.0245</td> <td>  151.110</td> <td>   -9.576</td> <td> 0.000</td> <td>-1743.203 -1150.846</td>\n",
       "</tr>\n",
       "<tr>\n",
       "  <th>dummy_unit_R330</th>  <td> -755.3653</td> <td>  149.912</td> <td>   -5.039</td> <td> 0.000</td> <td>-1049.195  -461.535</td>\n",
       "</tr>\n",
       "<tr>\n",
       "  <th>dummy_unit_R335</th>  <td>-1444.8599</td> <td>  156.219</td> <td>   -9.249</td> <td> 0.000</td> <td>-1751.052 -1138.668</td>\n",
       "</tr>\n",
       "<tr>\n",
       "  <th>dummy_unit_R336</th>  <td>-1798.5492</td> <td>  156.267</td> <td>  -11.509</td> <td> 0.000</td> <td>-2104.835 -1492.263</td>\n",
       "</tr>\n",
       "<tr>\n",
       "  <th>dummy_unit_R337</th>  <td>-1743.4506</td> <td>  154.390</td> <td>  -11.293</td> <td> 0.000</td> <td>-2046.058 -1440.843</td>\n",
       "</tr>\n",
       "<tr>\n",
       "  <th>dummy_unit_R338</th>  <td>-1871.7364</td> <td>  151.747</td> <td>  -12.335</td> <td> 0.000</td> <td>-2169.163 -1574.310</td>\n",
       "</tr>\n",
       "<tr>\n",
       "  <th>dummy_unit_R341</th>  <td>-1280.3797</td> <td>  147.976</td> <td>   -8.653</td> <td> 0.000</td> <td>-1570.415  -990.344</td>\n",
       "</tr>\n",
       "<tr>\n",
       "  <th>dummy_unit_R344</th>  <td>-1300.3287</td> <td>  155.688</td> <td>   -8.352</td> <td> 0.000</td> <td>-1605.480  -995.177</td>\n",
       "</tr>\n",
       "<tr>\n",
       "  <th>dummy_unit_R345</th>  <td>-1287.8509</td> <td>  150.773</td> <td>   -8.542</td> <td> 0.000</td> <td>-1583.368  -992.333</td>\n",
       "</tr>\n",
       "<tr>\n",
       "  <th>dummy_unit_R346</th>  <td> -506.3802</td> <td>  151.187</td> <td>   -3.349</td> <td> 0.001</td> <td> -802.710  -210.050</td>\n",
       "</tr>\n",
       "<tr>\n",
       "  <th>dummy_unit_R348</th>  <td>-1670.3429</td> <td>  151.480</td> <td>  -11.027</td> <td> 0.000</td> <td>-1967.247 -1373.439</td>\n",
       "</tr>\n",
       "<tr>\n",
       "  <th>dummy_unit_R354</th>  <td>-1639.7663</td> <td>  154.804</td> <td>  -10.593</td> <td> 0.000</td> <td>-1943.186 -1336.347</td>\n",
       "</tr>\n",
       "<tr>\n",
       "  <th>dummy_unit_R356</th>  <td> -699.8318</td> <td>  150.907</td> <td>   -4.638</td> <td> 0.000</td> <td> -995.612  -404.051</td>\n",
       "</tr>\n",
       "<tr>\n",
       "  <th>dummy_unit_R358</th>  <td>-1605.5423</td> <td>  154.786</td> <td>  -10.373</td> <td> 0.000</td> <td>-1908.925 -1302.159</td>\n",
       "</tr>\n",
       "<tr>\n",
       "  <th>dummy_unit_R370</th>  <td>-1280.7185</td> <td>  150.320</td> <td>   -8.520</td> <td> 0.000</td> <td>-1575.348  -986.089</td>\n",
       "</tr>\n",
       "<tr>\n",
       "  <th>dummy_unit_R371</th>  <td>-1065.6179</td> <td>  152.052</td> <td>   -7.008</td> <td> 0.000</td> <td>-1363.642  -767.593</td>\n",
       "</tr>\n",
       "<tr>\n",
       "  <th>dummy_unit_R372</th>  <td>-1080.5893</td> <td>  153.392</td> <td>   -7.045</td> <td> 0.000</td> <td>-1381.240  -779.939</td>\n",
       "</tr>\n",
       "<tr>\n",
       "  <th>dummy_unit_R373</th>  <td>-1134.6337</td> <td>  153.829</td> <td>   -7.376</td> <td> 0.000</td> <td>-1436.141  -833.126</td>\n",
       "</tr>\n",
       "<tr>\n",
       "  <th>dummy_unit_R382</th>  <td> -905.4958</td> <td>  150.420</td> <td>   -6.020</td> <td> 0.000</td> <td>-1200.321  -610.670</td>\n",
       "</tr>\n",
       "<tr>\n",
       "  <th>dummy_unit_R424</th>  <td>-1433.6046</td> <td>  155.258</td> <td>   -9.234</td> <td> 0.000</td> <td>-1737.914 -1129.296</td>\n",
       "</tr>\n",
       "<tr>\n",
       "  <th>dummy_unit_R429</th>  <td> -778.9223</td> <td>  147.724</td> <td>   -5.273</td> <td> 0.000</td> <td>-1068.464  -489.381</td>\n",
       "</tr>\n",
       "<tr>\n",
       "  <th>dummy_unit_R453</th>  <td>   -0.4941</td> <td>  156.632</td> <td>   -0.003</td> <td> 0.997</td> <td> -307.497   306.508</td>\n",
       "</tr>\n",
       "<tr>\n",
       "  <th>dummy_unit_R454</th>  <td>-1678.6246</td> <td>  154.304</td> <td>  -10.879</td> <td> 0.000</td> <td>-1981.063 -1376.186</td>\n",
       "</tr>\n",
       "<tr>\n",
       "  <th>dummy_unit_R455</th>  <td>-1732.4183</td> <td>  153.872</td> <td>  -11.259</td> <td> 0.000</td> <td>-2034.011 -1430.826</td>\n",
       "</tr>\n",
       "<tr>\n",
       "  <th>dummy_unit_R456</th>  <td>-1547.7983</td> <td>  149.916</td> <td>  -10.324</td> <td> 0.000</td> <td>-1841.637 -1253.960</td>\n",
       "</tr>\n",
       "<tr>\n",
       "  <th>dummy_unit_R459</th>  <td>-1739.9341</td> <td>  212.837</td> <td>   -8.175</td> <td> 0.000</td> <td>-2157.098 -1322.770</td>\n",
       "</tr>\n",
       "<tr>\n",
       "  <th>dummy_unit_R464</th>  <td>-1933.9805</td> <td>  153.865</td> <td>  -12.569</td> <td> 0.000</td> <td>-2235.559 -1632.402</td>\n",
       "</tr>\n",
       "<tr>\n",
       "  <th>dummy_day_week_0</th> <td>  245.6075</td> <td>   26.529</td> <td>    9.258</td> <td> 0.000</td> <td>  193.610   297.605</td>\n",
       "</tr>\n",
       "<tr>\n",
       "  <th>dummy_day_week_1</th> <td>  681.7857</td> <td>   29.714</td> <td>   22.945</td> <td> 0.000</td> <td>  623.546   740.026</td>\n",
       "</tr>\n",
       "<tr>\n",
       "  <th>dummy_day_week_2</th> <td>  675.6276</td> <td>   27.690</td> <td>   24.400</td> <td> 0.000</td> <td>  621.355   729.900</td>\n",
       "</tr>\n",
       "<tr>\n",
       "  <th>dummy_day_week_3</th> <td>  683.8690</td> <td>   27.736</td> <td>   24.656</td> <td> 0.000</td> <td>  629.505   738.233</td>\n",
       "</tr>\n",
       "<tr>\n",
       "  <th>dummy_day_week_4</th> <td>  657.7155</td> <td>   26.849</td> <td>   24.497</td> <td> 0.000</td> <td>  605.092   710.339</td>\n",
       "</tr>\n",
       "<tr>\n",
       "  <th>dummy_day_week_5</th> <td> -231.9556</td> <td>   27.710</td> <td>   -8.371</td> <td> 0.000</td> <td> -286.268  -177.643</td>\n",
       "</tr>\n",
       "<tr>\n",
       "  <th>dummy_day_week_6</th> <td> -588.3065</td> <td>   24.466</td> <td>  -24.046</td> <td> 0.000</td> <td> -636.261  -540.352</td>\n",
       "</tr>\n",
       "<tr>\n",
       "  <th>dummy_hour_0</th>     <td>  -47.3763</td> <td>   25.183</td> <td>   -1.881</td> <td> 0.060</td> <td>  -96.735     1.982</td>\n",
       "</tr>\n",
       "<tr>\n",
       "  <th>dummy_hour_4</th>     <td>-1138.4137</td> <td>   25.179</td> <td>  -45.213</td> <td> 0.000</td> <td>-1187.765 -1089.062</td>\n",
       "</tr>\n",
       "<tr>\n",
       "  <th>dummy_hour_8</th>     <td> -844.7000</td> <td>   27.152</td> <td>  -31.110</td> <td> 0.000</td> <td> -897.918  -791.482</td>\n",
       "</tr>\n",
       "<tr>\n",
       "  <th>dummy_hour_12</th>    <td> 1546.0119</td> <td>   25.251</td> <td>   61.225</td> <td> 0.000</td> <td> 1496.519  1595.505</td>\n",
       "</tr>\n",
       "<tr>\n",
       "  <th>dummy_hour_16</th>    <td>  846.3254</td> <td>   25.308</td> <td>   33.441</td> <td> 0.000</td> <td>  796.721   895.930</td>\n",
       "</tr>\n",
       "<tr>\n",
       "  <th>dummy_hour_20</th>    <td> 1762.4961</td> <td>   25.266</td> <td>   69.757</td> <td> 0.000</td> <td> 1712.974  1812.018</td>\n",
       "</tr>\n",
       "</table>\n",
       "<table class=\"simpletable\">\n",
       "<tr>\n",
       "  <th>Omnibus:</th>       <td>30234.076</td> <th>  Durbin-Watson:     </th>  <td>   1.523</td>  \n",
       "</tr>\n",
       "<tr>\n",
       "  <th>Prob(Omnibus):</th>  <td> 0.000</td>   <th>  Jarque-Bera (JB):  </th> <td>1102679.495</td>\n",
       "</tr>\n",
       "<tr>\n",
       "  <th>Skew:</th>           <td> 2.977</td>   <th>  Prob(JB):          </th>  <td>    0.00</td>  \n",
       "</tr>\n",
       "<tr>\n",
       "  <th>Kurtosis:</th>       <td>27.188</td>   <th>  Cond. No.          </th>  <td>9.59e+16</td>  \n",
       "</tr>\n",
       "</table>"
      ],
      "text/plain": [
       "<class 'statsmodels.iolib.summary.Summary'>\n",
       "\"\"\"\n",
       "                            OLS Regression Results                            \n",
       "==============================================================================\n",
       "Dep. Variable:        ENTRIESn_hourly   R-squared:                       0.545\n",
       "Model:                            OLS   Adj. R-squared:                  0.543\n",
       "Method:                 Least Squares   F-statistic:                     201.0\n",
       "Date:                Sun, 06 Dec 2015   Prob (F-statistic):               0.00\n",
       "Time:                        01:07:41   Log-Likelihood:            -3.8449e+05\n",
       "No. Observations:               42649   AIC:                         7.695e+05\n",
       "Df Residuals:                   42395   BIC:                         7.717e+05\n",
       "Df Model:                         253                                         \n",
       "Covariance Type:            nonrobust                                         \n",
       "====================================================================================\n",
       "                       coef    std err          t      P>|t|      [95.0% Conf. Int.]\n",
       "------------------------------------------------------------------------------------\n",
       "const             2124.3433     80.612     26.353      0.000      1966.343  2282.344\n",
       "precipi          -1901.9935    407.573     -4.667      0.000     -2700.845 -1103.142\n",
       "meanwspdi            3.9864      4.687      0.851      0.395        -5.200    13.173\n",
       "meantempi          -15.7364      1.486    -10.588      0.000       -18.650   -12.823\n",
       "dummy_unit_R003  -1703.9417    154.156    -11.053      0.000     -2006.090 -1401.793\n",
       "dummy_unit_R004  -1343.0266    151.250     -8.880      0.000     -1639.479 -1046.574\n",
       "dummy_unit_R005  -1357.0453    152.542     -8.896      0.000     -1656.031 -1058.059\n",
       "dummy_unit_R006  -1181.1254    149.261     -7.913      0.000     -1473.679  -888.572\n",
       "dummy_unit_R007  -1543.4724    153.504    -10.055      0.000     -1844.343 -1242.602\n",
       "dummy_unit_R008  -1544.3895    153.891    -10.036      0.000     -1846.020 -1242.759\n",
       "dummy_unit_R009  -1545.4387    151.289    -10.215      0.000     -1841.969 -1248.908\n",
       "dummy_unit_R011   5572.6268    147.050     37.896      0.000      5284.406  5860.847\n",
       "dummy_unit_R012   6924.1883    146.260     47.342      0.000      6637.516  7210.861\n",
       "dummy_unit_R013    822.6291    146.260      5.624      0.000       535.957  1109.302\n",
       "dummy_unit_R016  -1000.5830    147.050     -6.804      0.000     -1288.805  -712.361\n",
       "dummy_unit_R017   2437.6238    146.260     16.666      0.000      2150.951  2724.296\n",
       "dummy_unit_R018   5986.4203    146.942     40.740      0.000      5698.411  6274.430\n",
       "dummy_unit_R019   1446.5116    146.826      9.852      0.000      1158.730  1734.293\n",
       "dummy_unit_R020   4613.7205    146.260     31.545      0.000      4327.048  4900.393\n",
       "dummy_unit_R021   2924.2080    147.048     19.886      0.000      2635.991  3212.425\n",
       "dummy_unit_R022   7758.1130    146.260     53.043      0.000      7471.440  8044.786\n",
       "dummy_unit_R023   4393.2904    146.260     30.038      0.000      4106.618  4679.963\n",
       "dummy_unit_R024   1408.4751    147.216      9.567      0.000      1119.929  1697.021\n",
       "dummy_unit_R025   3543.4040    146.826     24.133      0.000      3255.623  3831.185\n",
       "dummy_unit_R027   1207.7259    146.260      8.257      0.000       921.053  1494.399\n",
       "dummy_unit_R029   5469.6990    146.260     37.397      0.000      5183.026  5756.372\n",
       "dummy_unit_R030   1339.8926    146.260      9.161      0.000      1053.220  1626.565\n",
       "dummy_unit_R031   2591.6614    146.260     17.720      0.000      2304.989  2878.334\n",
       "dummy_unit_R032   2686.5200    146.652     18.319      0.000      2399.079  2973.961\n",
       "dummy_unit_R033   6474.6721    146.260     44.268      0.000      6188.000  6761.345\n",
       "dummy_unit_R034   -642.4973    152.941     -4.201      0.000      -942.264  -342.731\n",
       "dummy_unit_R035   1037.4268    147.045      7.055      0.000       749.216  1325.637\n",
       "dummy_unit_R036  -1067.3904    150.218     -7.106      0.000     -1361.822  -772.959\n",
       "dummy_unit_R037   -944.6942    147.716     -6.395      0.000     -1234.220  -655.168\n",
       "dummy_unit_R038  -1596.6993    151.056    -10.570      0.000     -1892.772 -1300.627\n",
       "dummy_unit_R039  -1079.4666    155.009     -6.964      0.000     -1383.288  -775.646\n",
       "dummy_unit_R040   -544.2544    147.337     -3.694      0.000      -833.038  -255.470\n",
       "dummy_unit_R041   1339.7044    146.260      9.160      0.000      1053.032  1626.377\n",
       "dummy_unit_R042  -1175.8208    148.659     -7.909      0.000     -1467.196  -884.445\n",
       "dummy_unit_R043   1126.8388    146.260      7.704      0.000       840.166  1413.511\n",
       "dummy_unit_R044   2918.2474    146.260     19.952      0.000      2631.575  3204.920\n",
       "dummy_unit_R046   6584.6990    146.260     45.020      0.000      6298.026  6871.372\n",
       "dummy_unit_R049   1012.5109    146.260      6.923      0.000       725.838  1299.183\n",
       "dummy_unit_R050   2266.8068    147.051     15.415      0.000      1978.584  2555.030\n",
       "dummy_unit_R051   3374.2528    146.260     23.070      0.000      3087.580  3660.925\n",
       "dummy_unit_R052   -596.8702    152.372     -3.917      0.000      -895.522  -298.218\n",
       "dummy_unit_R053   1381.3438    147.344      9.375      0.000      1092.546  1670.142\n",
       "dummy_unit_R054   -299.1329    147.047     -2.034      0.042      -587.348   -10.917\n",
       "dummy_unit_R055   6546.2114    146.550     44.669      0.000      6258.971  6833.452\n",
       "dummy_unit_R056   -314.3080    147.050     -2.137      0.033      -602.528   -26.088\n",
       "dummy_unit_R057   3122.6399    146.260     21.350      0.000      2835.967  3409.312\n",
       "dummy_unit_R058  -1119.2999    146.657     -7.632      0.000     -1406.750  -831.850\n",
       "dummy_unit_R059   -577.0241    149.908     -3.849      0.000      -870.846  -283.202\n",
       "dummy_unit_R060   -973.0536    148.649     -6.546      0.000     -1264.408  -681.699\n",
       "dummy_unit_R061  -1177.0589    154.303     -7.628      0.000     -1479.496  -874.621\n",
       "dummy_unit_R062    976.5001    146.260      6.676      0.000       689.827  1263.173\n",
       "dummy_unit_R063   -628.9232    153.853     -4.088      0.000      -930.477  -327.369\n",
       "dummy_unit_R064   -922.5094    150.327     -6.137      0.000     -1217.154  -627.865\n",
       "dummy_unit_R065   -930.3465    152.048     -6.119      0.000     -1228.364  -632.329\n",
       "dummy_unit_R066  -1535.6957    152.940    -10.041      0.000     -1835.460 -1235.931\n",
       "dummy_unit_R067   -947.5705    154.645     -6.127      0.000     -1250.677  -644.464\n",
       "dummy_unit_R068  -1356.6793    154.632     -8.774      0.000     -1659.761 -1053.597\n",
       "dummy_unit_R069   -862.7182    151.922     -5.679      0.000     -1160.489  -564.948\n",
       "dummy_unit_R070     27.4786    146.260      0.188      0.851      -259.194   314.151\n",
       "dummy_unit_R080   1851.8066    146.260     12.661      0.000      1565.134  2138.479\n",
       "dummy_unit_R081   1802.1934    147.045     12.256      0.000      1513.982  2090.405\n",
       "dummy_unit_R082   -257.6666    147.048     -1.752      0.080      -545.883    30.550\n",
       "dummy_unit_R083   1366.2152    146.260      9.341      0.000      1079.543  1652.888\n",
       "dummy_unit_R084   8270.4894    146.260     56.546      0.000      7983.817  8557.162\n",
       "dummy_unit_R085    852.2504    147.044      5.796      0.000       564.042  1140.459\n",
       "dummy_unit_R086    839.8066    146.260      5.742      0.000       553.134  1126.479\n",
       "dummy_unit_R087   -530.9045    147.851     -3.591      0.000      -820.695  -241.114\n",
       "dummy_unit_R089  -1246.7949    147.050     -8.479      0.000     -1535.017  -958.573\n",
       "dummy_unit_R090  -1382.6187    154.626     -8.942      0.000     -1685.689 -1079.548\n",
       "dummy_unit_R091   -669.0862    153.269     -4.365      0.000      -969.496  -368.677\n",
       "dummy_unit_R092    207.7519    150.620      1.379      0.168       -87.467   502.970\n",
       "dummy_unit_R093    242.0095    151.446      1.598      0.110       -54.828   538.847\n",
       "dummy_unit_R094    -18.4397    147.326     -0.125      0.900      -307.201   270.322\n",
       "dummy_unit_R095    387.7447    148.547      2.610      0.009        96.589   678.900\n",
       "dummy_unit_R096    574.3806    146.931      3.909      0.000       286.394   862.368\n",
       "dummy_unit_R097   1195.4581    146.942      8.136      0.000       907.449  1483.468\n",
       "dummy_unit_R098     74.3657    146.260      0.508      0.611      -212.307   361.038\n",
       "dummy_unit_R099    631.3926    146.260      4.317      0.000       344.720   918.065\n",
       "dummy_unit_R100  -1223.0731    148.163     -8.255      0.000     -1513.475  -932.671\n",
       "dummy_unit_R101   1065.7850    146.260      7.287      0.000       779.112  1352.458\n",
       "dummy_unit_R102   1954.6238    146.260     13.364      0.000      1667.951  2241.296\n",
       "dummy_unit_R103   -388.2589    152.342     -2.549      0.011      -686.852   -89.666\n",
       "dummy_unit_R104   -428.9434    147.320     -2.912      0.004      -717.693  -140.193\n",
       "dummy_unit_R105   1604.3227    146.260     10.969      0.000      1317.650  1890.995\n",
       "dummy_unit_R106   -720.8036    154.596     -4.662      0.000     -1023.815  -417.792\n",
       "dummy_unit_R107  -1313.5844    155.113     -8.469      0.000     -1617.610 -1009.559\n",
       "dummy_unit_R108   3493.4894    146.260     23.885      0.000      3206.817  3780.162\n",
       "dummy_unit_R111   1490.6130    146.260     10.192      0.000      1203.940  1777.286\n",
       "dummy_unit_R112    -83.9329    146.931     -0.571      0.568      -371.920   204.054\n",
       "dummy_unit_R114   -877.6146    147.224     -5.961      0.000     -1166.177  -589.052\n",
       "dummy_unit_R115   -505.9992    146.826     -3.446      0.001      -793.780  -218.218\n",
       "dummy_unit_R116   1469.7582    146.260     10.049      0.000      1183.086  1756.431\n",
       "dummy_unit_R117   -910.0417    154.134     -5.904      0.000     -1212.147  -607.937\n",
       "dummy_unit_R119     82.3107    149.355      0.551      0.582      -210.427   375.049\n",
       "dummy_unit_R120   -260.6812    151.466     -1.721      0.085      -557.557    36.195\n",
       "dummy_unit_R121   -272.5451    150.325     -1.813      0.070      -567.186    22.096\n",
       "dummy_unit_R122    807.1916    148.556      5.434      0.000       516.019  1098.364\n",
       "dummy_unit_R123   -105.7462    148.670     -0.711      0.477      -397.141   185.649\n",
       "dummy_unit_R124  -1094.4114    152.495     -7.177      0.000     -1393.305  -795.518\n",
       "dummy_unit_R126    131.6668    146.260      0.900      0.368      -155.006   418.339\n",
       "dummy_unit_R127   3072.3764    146.260     21.006      0.000      2785.704  3359.049\n",
       "dummy_unit_R137    692.1200    146.550      4.723      0.000       404.880   979.360\n",
       "dummy_unit_R139    806.5325    146.655      5.500      0.000       519.085  1093.980\n",
       "dummy_unit_R163   1608.1130    146.260     10.995      0.000      1321.440  1894.786\n",
       "dummy_unit_R172    174.1506    146.260      1.191      0.234      -112.522   460.823\n",
       "dummy_unit_R179   5054.9248    146.260     34.561      0.000      4768.252  5341.597\n",
       "dummy_unit_R181     31.7805    149.069      0.213      0.831      -260.397   323.958\n",
       "dummy_unit_R183  -1028.4993    155.059     -6.633      0.000     -1332.417  -724.581\n",
       "dummy_unit_R184   -746.6065    152.936     -4.882      0.000     -1046.364  -446.849\n",
       "dummy_unit_R186   -644.3238    148.258     -4.346      0.000      -934.913  -353.735\n",
       "dummy_unit_R188    608.2227    146.652      4.147      0.000       320.782   895.663\n",
       "dummy_unit_R189   -333.5707    149.902     -2.225      0.026      -627.381   -39.760\n",
       "dummy_unit_R194    270.4832    149.085      1.814      0.070       -21.726   562.693\n",
       "dummy_unit_R196   -391.8233    147.446     -2.657      0.008      -680.820  -102.827\n",
       "dummy_unit_R198    392.2692    147.048      2.668      0.008       104.053   680.486\n",
       "dummy_unit_R199  -1006.0390    149.070     -6.749      0.000     -1298.220  -713.858\n",
       "dummy_unit_R200   -708.7359    148.378     -4.777      0.000      -999.560  -417.912\n",
       "dummy_unit_R202    479.0422    147.331      3.251      0.001       190.271   767.814\n",
       "dummy_unit_R203     39.2556    150.750      0.260      0.795      -256.218   334.729\n",
       "dummy_unit_R204   -264.3494    146.260     -1.807      0.071      -551.022    22.323\n",
       "dummy_unit_R205   -239.5312    148.150     -1.617      0.106      -529.909    50.846\n",
       "dummy_unit_R207    285.7817    146.657      1.949      0.051        -1.668   573.232\n",
       "dummy_unit_R208    762.6277    148.123      5.149      0.000       472.303  1052.952\n",
       "dummy_unit_R209   -952.7125    153.842     -6.193      0.000     -1254.246  -651.179\n",
       "dummy_unit_R210  -1188.9477    149.916     -7.931      0.000     -1482.785  -895.110\n",
       "dummy_unit_R211    693.0807    146.260      4.739      0.000       406.408   979.753\n",
       "dummy_unit_R212    -26.6798    146.652     -0.182      0.856      -314.120   260.760\n",
       "dummy_unit_R213   -566.5364    149.483     -3.790      0.000      -859.527  -273.546\n",
       "dummy_unit_R214  -1077.8515    154.306     -6.985      0.000     -1380.295  -775.408\n",
       "dummy_unit_R215   -117.6584    147.045     -0.800      0.424      -405.869   170.552\n",
       "dummy_unit_R216   -946.7638    147.047     -6.439      0.000     -1234.978  -658.549\n",
       "dummy_unit_R217   -741.1690    153.849     -4.817      0.000     -1042.717  -439.621\n",
       "dummy_unit_R218    238.7622    146.944      1.625      0.104       -49.251   526.776\n",
       "dummy_unit_R219   -479.8883    147.342     -3.257      0.001      -768.682  -191.095\n",
       "dummy_unit_R220   -232.1934    146.260     -1.588      0.112      -518.866    54.479\n",
       "dummy_unit_R221   -331.7607    154.307     -2.150      0.032      -634.206   -29.315\n",
       "dummy_unit_R223    378.3265    146.931      2.575      0.010        90.340   666.314\n",
       "dummy_unit_R224   -992.0034    150.331     -6.599      0.000     -1286.655  -697.352\n",
       "dummy_unit_R225  -1138.7230    148.261     -7.681      0.000     -1429.318  -848.128\n",
       "dummy_unit_R226  -1049.8926    153.253     -6.851      0.000     -1350.272  -749.513\n",
       "dummy_unit_R227   -612.9300    146.260     -4.191      0.000      -899.603  -326.257\n",
       "dummy_unit_R228   -597.8224    153.389     -3.897      0.000      -898.469  -297.176\n",
       "dummy_unit_R229  -1165.6685    152.495     -7.644      0.000     -1464.562  -866.775\n",
       "dummy_unit_R230  -1205.2479    150.761     -7.994      0.000     -1500.742  -909.754\n",
       "dummy_unit_R231   -745.6097    148.250     -5.029      0.000     -1036.182  -455.037\n",
       "dummy_unit_R232   -709.9695    152.050     -4.669      0.000     -1007.991  -411.948\n",
       "dummy_unit_R233   -642.8029    155.242     -4.141      0.000      -947.080  -338.525\n",
       "dummy_unit_R234  -1430.3796    153.866     -9.296      0.000     -1731.960 -1128.799\n",
       "dummy_unit_R235    858.8028    146.657      5.856      0.000       571.353  1146.253\n",
       "dummy_unit_R236   -223.8610    148.138     -1.511      0.131      -514.214    66.492\n",
       "dummy_unit_R237  -1116.9412    153.667     -7.269      0.000     -1418.131  -815.751\n",
       "dummy_unit_R238    360.7550    146.944      2.455      0.014        72.742   648.768\n",
       "dummy_unit_R239   -815.7687    146.260     -5.578      0.000     -1102.441  -529.096\n",
       "dummy_unit_R240    943.8987    147.442      6.402      0.000       654.909  1232.889\n",
       "dummy_unit_R242  -1173.1895    149.481     -7.848      0.000     -1466.176  -880.203\n",
       "dummy_unit_R243   -379.4057    151.917     -2.497      0.013      -677.167   -81.644\n",
       "dummy_unit_R244   -146.1280    151.879     -0.962      0.336      -443.813   151.557\n",
       "dummy_unit_R246  -1057.4308    153.413     -6.893      0.000     -1358.123  -756.739\n",
       "dummy_unit_R247  -1604.6248    156.185    -10.274      0.000     -1910.750 -1298.500\n",
       "dummy_unit_R248   1388.8622    146.655      9.470      0.000      1101.415  1676.310\n",
       "dummy_unit_R249   -359.8433    148.659     -2.421      0.015      -651.219   -68.468\n",
       "dummy_unit_R250   -748.5816    149.487     -5.008      0.000     -1041.579  -455.584\n",
       "dummy_unit_R251   -441.6834    147.434     -2.996      0.003      -730.656  -152.711\n",
       "dummy_unit_R252   -756.8224    147.044     -5.147      0.000     -1045.033  -468.612\n",
       "dummy_unit_R253  -1011.0815    152.424     -6.633      0.000     -1309.835  -712.328\n",
       "dummy_unit_R254    846.7765    146.938      5.763      0.000       558.775  1134.778\n",
       "dummy_unit_R255   -987.7410    148.381     -6.657      0.000     -1278.571  -696.911\n",
       "dummy_unit_R256   -650.6032    147.046     -4.424      0.000      -938.816  -362.391\n",
       "dummy_unit_R257    171.4033    146.260      1.172      0.241      -115.269   458.076\n",
       "dummy_unit_R258   -193.0889    147.445     -1.310      0.190      -482.083    95.906\n",
       "dummy_unit_R259   -790.4786    148.656     -5.318      0.000     -1081.846  -499.111\n",
       "dummy_unit_R260   -645.1790    159.638     -4.042      0.000      -958.073  -332.285\n",
       "dummy_unit_R261   -195.3432    150.208     -1.300      0.193      -489.755    99.068\n",
       "dummy_unit_R262  -1295.1891    156.186     -8.293      0.000     -1601.317  -989.061\n",
       "dummy_unit_R263  -1589.4049    149.489    -10.632      0.000     -1882.407 -1296.403\n",
       "dummy_unit_R264  -1243.3973    146.654     -8.478      0.000     -1530.843  -955.952\n",
       "dummy_unit_R265   -873.1244    152.501     -5.725      0.000     -1172.030  -574.219\n",
       "dummy_unit_R266   -839.4319    146.935     -5.713      0.000     -1127.428  -551.436\n",
       "dummy_unit_R269   -835.2053    147.046     -5.680      0.000     -1123.419  -546.992\n",
       "dummy_unit_R270  -1253.9410    153.407     -8.174      0.000     -1554.622  -953.260\n",
       "dummy_unit_R271  -1370.8520    152.941     -8.963      0.000     -1670.619 -1071.085\n",
       "dummy_unit_R273   -370.3923    153.855     -2.407      0.016      -671.951   -68.834\n",
       "dummy_unit_R274   -778.7098    152.056     -5.121      0.000     -1076.743  -480.676\n",
       "dummy_unit_R275   -865.4524    150.243     -5.760      0.000     -1159.932  -570.972\n",
       "dummy_unit_R276   -306.0590    146.260     -2.093      0.036      -592.732   -19.386\n",
       "dummy_unit_R277  -1325.4405    157.655     -8.407      0.000     -1634.447 -1016.433\n",
       "dummy_unit_R278  -1369.5669    152.501     -8.981      0.000     -1668.472 -1070.662\n",
       "dummy_unit_R279   -996.5981    149.385     -6.671      0.000     -1289.396  -703.800\n",
       "dummy_unit_R280  -1104.7027    156.645     -7.052      0.000     -1411.731  -797.675\n",
       "dummy_unit_R281   -441.9684    148.642     -2.973      0.003      -733.310  -150.626\n",
       "dummy_unit_R282   -135.0834    147.054     -0.919      0.358      -423.312   153.145\n",
       "dummy_unit_R284   -948.4257    147.044     -6.450      0.000     -1236.636  -660.216\n",
       "dummy_unit_R285  -1207.9435    154.782     -7.804      0.000     -1511.319  -904.568\n",
       "dummy_unit_R287  -1208.1484    154.777     -7.806      0.000     -1511.514  -904.783\n",
       "dummy_unit_R291     87.1721    146.260      0.596      0.551      -199.500   373.845\n",
       "dummy_unit_R294   -791.1294    149.921     -5.277      0.000     -1084.978  -497.281\n",
       "dummy_unit_R295  -1184.7607    169.921     -6.972      0.000     -1517.810  -851.712\n",
       "dummy_unit_R300    496.2367    146.260      3.393      0.001       209.564   782.909\n",
       "dummy_unit_R303   -495.0720    148.662     -3.330      0.001      -786.453  -203.691\n",
       "dummy_unit_R304   -637.3100    147.050     -4.334      0.000      -925.530  -349.090\n",
       "dummy_unit_R307  -1464.6817    155.077     -9.445      0.000     -1768.636 -1160.727\n",
       "dummy_unit_R308   -990.0029    151.933     -6.516      0.000     -1287.794  -692.212\n",
       "dummy_unit_R309   -955.5533    151.504     -6.307      0.000     -1252.504  -658.603\n",
       "dummy_unit_R310   -502.9137    153.226     -3.282      0.001      -803.239  -202.588\n",
       "dummy_unit_R311  -1347.4165    150.774     -8.937      0.000     -1642.937 -1051.896\n",
       "dummy_unit_R312  -1397.3758    147.443     -9.477      0.000     -1686.367 -1108.384\n",
       "dummy_unit_R313  -1755.8547    155.547    -11.288      0.000     -2060.730 -1450.980\n",
       "dummy_unit_R318  -1191.4664    147.850     -8.059      0.000     -1481.256  -901.677\n",
       "dummy_unit_R319   -387.9881    149.070     -2.603      0.009      -680.169   -95.807\n",
       "dummy_unit_R321   -641.1666    146.260     -4.384      0.000      -927.839  -354.494\n",
       "dummy_unit_R322     38.9456    149.075      0.261      0.794      -253.245   331.136\n",
       "dummy_unit_R323   -485.3897    152.043     -3.192      0.001      -783.398  -187.381\n",
       "dummy_unit_R325  -1447.0245    151.110     -9.576      0.000     -1743.203 -1150.846\n",
       "dummy_unit_R330   -755.3653    149.912     -5.039      0.000     -1049.195  -461.535\n",
       "dummy_unit_R335  -1444.8599    156.219     -9.249      0.000     -1751.052 -1138.668\n",
       "dummy_unit_R336  -1798.5492    156.267    -11.509      0.000     -2104.835 -1492.263\n",
       "dummy_unit_R337  -1743.4506    154.390    -11.293      0.000     -2046.058 -1440.843\n",
       "dummy_unit_R338  -1871.7364    151.747    -12.335      0.000     -2169.163 -1574.310\n",
       "dummy_unit_R341  -1280.3797    147.976     -8.653      0.000     -1570.415  -990.344\n",
       "dummy_unit_R344  -1300.3287    155.688     -8.352      0.000     -1605.480  -995.177\n",
       "dummy_unit_R345  -1287.8509    150.773     -8.542      0.000     -1583.368  -992.333\n",
       "dummy_unit_R346   -506.3802    151.187     -3.349      0.001      -802.710  -210.050\n",
       "dummy_unit_R348  -1670.3429    151.480    -11.027      0.000     -1967.247 -1373.439\n",
       "dummy_unit_R354  -1639.7663    154.804    -10.593      0.000     -1943.186 -1336.347\n",
       "dummy_unit_R356   -699.8318    150.907     -4.638      0.000      -995.612  -404.051\n",
       "dummy_unit_R358  -1605.5423    154.786    -10.373      0.000     -1908.925 -1302.159\n",
       "dummy_unit_R370  -1280.7185    150.320     -8.520      0.000     -1575.348  -986.089\n",
       "dummy_unit_R371  -1065.6179    152.052     -7.008      0.000     -1363.642  -767.593\n",
       "dummy_unit_R372  -1080.5893    153.392     -7.045      0.000     -1381.240  -779.939\n",
       "dummy_unit_R373  -1134.6337    153.829     -7.376      0.000     -1436.141  -833.126\n",
       "dummy_unit_R382   -905.4958    150.420     -6.020      0.000     -1200.321  -610.670\n",
       "dummy_unit_R424  -1433.6046    155.258     -9.234      0.000     -1737.914 -1129.296\n",
       "dummy_unit_R429   -778.9223    147.724     -5.273      0.000     -1068.464  -489.381\n",
       "dummy_unit_R453     -0.4941    156.632     -0.003      0.997      -307.497   306.508\n",
       "dummy_unit_R454  -1678.6246    154.304    -10.879      0.000     -1981.063 -1376.186\n",
       "dummy_unit_R455  -1732.4183    153.872    -11.259      0.000     -2034.011 -1430.826\n",
       "dummy_unit_R456  -1547.7983    149.916    -10.324      0.000     -1841.637 -1253.960\n",
       "dummy_unit_R459  -1739.9341    212.837     -8.175      0.000     -2157.098 -1322.770\n",
       "dummy_unit_R464  -1933.9805    153.865    -12.569      0.000     -2235.559 -1632.402\n",
       "dummy_day_week_0   245.6075     26.529      9.258      0.000       193.610   297.605\n",
       "dummy_day_week_1   681.7857     29.714     22.945      0.000       623.546   740.026\n",
       "dummy_day_week_2   675.6276     27.690     24.400      0.000       621.355   729.900\n",
       "dummy_day_week_3   683.8690     27.736     24.656      0.000       629.505   738.233\n",
       "dummy_day_week_4   657.7155     26.849     24.497      0.000       605.092   710.339\n",
       "dummy_day_week_5  -231.9556     27.710     -8.371      0.000      -286.268  -177.643\n",
       "dummy_day_week_6  -588.3065     24.466    -24.046      0.000      -636.261  -540.352\n",
       "dummy_hour_0       -47.3763     25.183     -1.881      0.060       -96.735     1.982\n",
       "dummy_hour_4     -1138.4137     25.179    -45.213      0.000     -1187.765 -1089.062\n",
       "dummy_hour_8      -844.7000     27.152    -31.110      0.000      -897.918  -791.482\n",
       "dummy_hour_12     1546.0119     25.251     61.225      0.000      1496.519  1595.505\n",
       "dummy_hour_16      846.3254     25.308     33.441      0.000       796.721   895.930\n",
       "dummy_hour_20     1762.4961     25.266     69.757      0.000      1712.974  1812.018\n",
       "==============================================================================\n",
       "Omnibus:                    30234.076   Durbin-Watson:                   1.523\n",
       "Prob(Omnibus):                  0.000   Jarque-Bera (JB):          1102679.495\n",
       "Skew:                           2.977   Prob(JB):                         0.00\n",
       "Kurtosis:                      27.188   Cond. No.                     9.59e+16\n",
       "==============================================================================\n",
       "\n",
       "Warnings:\n",
       "[1] Standard Errors assume that the covariance matrix of the errors is correctly specified.\n",
       "[2] The smallest eigenvalue is 1.89e-26. This might indicate that there are\n",
       "strong multicollinearity problems or that the design matrix is singular.\n",
       "\"\"\""
      ]
     },
     "execution_count": 249,
     "metadata": {},
     "output_type": "execute_result"
    }
   ],
   "source": [
    "results.summary()"
   ]
  },
  {
   "cell_type": "code",
   "execution_count": 194,
   "metadata": {
    "collapsed": false
   },
   "outputs": [
    {
     "data": {
      "text/plain": [
       "0.54536153573263135"
      ]
     },
     "execution_count": 194,
     "metadata": {},
     "output_type": "execute_result"
    }
   ],
   "source": [
    "results.rsquared"
   ]
  },
  {
   "cell_type": "code",
   "execution_count": 235,
   "metadata": {
    "collapsed": false
   },
   "outputs": [
    {
     "data": {
      "text/plain": [
       "1.5339860506628557e+17"
      ]
     },
     "execution_count": 235,
     "metadata": {},
     "output_type": "execute_result"
    }
   ],
   "source": [
    "np.linalg.cond(results.model.exog)"
   ]
  },
  {
   "cell_type": "code",
   "execution_count": 279,
   "metadata": {
    "collapsed": false
   },
   "outputs": [
    {
     "data": {
      "text/plain": [
       "<matplotlib.axes._subplots.AxesSubplot at 0x135178ed0>"
      ]
     },
     "execution_count": 279,
     "metadata": {},
     "output_type": "execute_result"
    },
    {
     "data": {
      "image/png": "[encoded data removed]",
      "text/plain": [
       "<matplotlib.figure.Figure at 0x134e8f1d0>"
      ]
     },
     "metadata": {},
     "output_type": "display_data"
    }
   ],
   "source": [
    "intercept, params = results.params[0], results.params[1:]\n",
    "predictions = intercept + np.dot(features, params)\n",
    "plt.figure()\n",
    "(df['ENTRIESn_hourly'] - predictions).plot(kind='hist',alpha=0.5, \n",
    "                                           bins=500, range=(-7500, 7500), title=\"Figure 7. Plot of Residuals\")"
   ]
  },
  {
   "cell_type": "code",
   "execution_count": null,
   "metadata": {
    "collapsed": true
   },
   "outputs": [],
   "source": [
    "    print np.std(turnstile_weather['ENTRIESn_hourly'] - predictions)\n",
    "    plt.figure()\n",
    "    (turnstile_weather['ENTRIESn_hourly'] - \n",
    "     predictions).plot(kind='hist',alpha=0.5, bins=500, range=(-7500, 7500))\n",
    "    return plt"
   ]
  },
  {
   "cell_type": "code",
   "execution_count": 280,
   "metadata": {
    "collapsed": false
   },
   "outputs": [],
   "source": [
    "#plt.hist(fit.norm_resid())\n",
    "#plt.ylabel('Count')\n",
    "#plt.xlabel('Normalized residuals')"
   ]
  },
  {
   "cell_type": "code",
   "execution_count": null,
   "metadata": {
    "collapsed": true
   },
   "outputs": [],
   "source": []
  }
 ],
 "metadata": {
  "kernelspec": {
   "display_name": "Python 2",
   "language": "python",
   "name": "python2"
  },
  "language_info": {
   "codemirror_mode": {
    "name": "ipython",
    "version": 2
   },
   "file_extension": ".py",
   "mimetype": "text/x-python",
   "name": "python",
   "nbconvert_exporter": "python",
   "pygments_lexer": "ipython2",
   "version": "2.7.10"
  }
 },
 "nbformat": 4,
 "nbformat_minor": 0
}
